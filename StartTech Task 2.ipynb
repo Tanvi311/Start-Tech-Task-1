{
 "cells": [
  {
   "cell_type": "markdown",
   "id": "2f6ad44e",
   "metadata": {},
   "source": [
    "# Predicting CTC of new employees"
   ]
  },
  {
   "cell_type": "code",
   "execution_count": 138,
   "id": "28835336",
   "metadata": {},
   "outputs": [],
   "source": [
    "#importing libraries\n",
    "import pandas as pd\n",
    "import numpy as np"
   ]
  },
  {
   "cell_type": "code",
   "execution_count": 139,
   "id": "43abc4fc",
   "metadata": {},
   "outputs": [],
   "source": [
    "#reading the dataset\n",
    "Hires = pd.read_csv('Hires.csv')"
   ]
  },
  {
   "cell_type": "markdown",
   "id": "308b5a97",
   "metadata": {},
   "source": [
    "## Data Exploration"
   ]
  },
  {
   "cell_type": "code",
   "execution_count": 140,
   "id": "95064bb7",
   "metadata": {},
   "outputs": [
    {
     "data": {
      "text/html": [
       "<div>\n",
       "<style scoped>\n",
       "    .dataframe tbody tr th:only-of-type {\n",
       "        vertical-align: middle;\n",
       "    }\n",
       "\n",
       "    .dataframe tbody tr th {\n",
       "        vertical-align: top;\n",
       "    }\n",
       "\n",
       "    .dataframe thead th {\n",
       "        text-align: right;\n",
       "    }\n",
       "</style>\n",
       "<table border=\"1\" class=\"dataframe\">\n",
       "  <thead>\n",
       "    <tr style=\"text-align: right;\">\n",
       "      <th></th>\n",
       "      <th>S.No.</th>\n",
       "      <th>College</th>\n",
       "      <th>Role</th>\n",
       "      <th>City type</th>\n",
       "      <th>Previous CTC</th>\n",
       "      <th>Previous job changes</th>\n",
       "      <th>Graduation marks</th>\n",
       "      <th>Exp (Months)</th>\n",
       "      <th>CTC</th>\n",
       "    </tr>\n",
       "  </thead>\n",
       "  <tbody>\n",
       "    <tr>\n",
       "      <th>0</th>\n",
       "      <td>1</td>\n",
       "      <td>Tier 1</td>\n",
       "      <td>Manager</td>\n",
       "      <td>Non-Metro</td>\n",
       "      <td>55523</td>\n",
       "      <td>3</td>\n",
       "      <td>66</td>\n",
       "      <td>19</td>\n",
       "      <td>71406.58</td>\n",
       "    </tr>\n",
       "    <tr>\n",
       "      <th>1</th>\n",
       "      <td>2</td>\n",
       "      <td>Tier 2</td>\n",
       "      <td>Executive</td>\n",
       "      <td>Metro</td>\n",
       "      <td>57081</td>\n",
       "      <td>1</td>\n",
       "      <td>84</td>\n",
       "      <td>18</td>\n",
       "      <td>68005.87</td>\n",
       "    </tr>\n",
       "    <tr>\n",
       "      <th>2</th>\n",
       "      <td>3</td>\n",
       "      <td>Tier 2</td>\n",
       "      <td>Executive</td>\n",
       "      <td>Metro</td>\n",
       "      <td>60347</td>\n",
       "      <td>2</td>\n",
       "      <td>52</td>\n",
       "      <td>28</td>\n",
       "      <td>76764.02</td>\n",
       "    </tr>\n",
       "    <tr>\n",
       "      <th>3</th>\n",
       "      <td>4</td>\n",
       "      <td>Tier 3</td>\n",
       "      <td>Executive</td>\n",
       "      <td>Metro</td>\n",
       "      <td>49010</td>\n",
       "      <td>2</td>\n",
       "      <td>81</td>\n",
       "      <td>33</td>\n",
       "      <td>82092.39</td>\n",
       "    </tr>\n",
       "    <tr>\n",
       "      <th>4</th>\n",
       "      <td>5</td>\n",
       "      <td>Tier 3</td>\n",
       "      <td>Executive</td>\n",
       "      <td>Metro</td>\n",
       "      <td>57879</td>\n",
       "      <td>4</td>\n",
       "      <td>74</td>\n",
       "      <td>32</td>\n",
       "      <td>73878.10</td>\n",
       "    </tr>\n",
       "  </tbody>\n",
       "</table>\n",
       "</div>"
      ],
      "text/plain": [
       "   S.No. College       Role  City type  Previous CTC  Previous job changes  \\\n",
       "0      1  Tier 1    Manager  Non-Metro         55523                     3   \n",
       "1      2  Tier 2  Executive      Metro         57081                     1   \n",
       "2      3  Tier 2  Executive      Metro         60347                     2   \n",
       "3      4  Tier 3  Executive      Metro         49010                     2   \n",
       "4      5  Tier 3  Executive      Metro         57879                     4   \n",
       "\n",
       "   Graduation marks  Exp (Months)       CTC  \n",
       "0                66            19  71406.58  \n",
       "1                84            18  68005.87  \n",
       "2                52            28  76764.02  \n",
       "3                81            33  82092.39  \n",
       "4                74            32  73878.10  "
      ]
     },
     "execution_count": 140,
     "metadata": {},
     "output_type": "execute_result"
    }
   ],
   "source": [
    "Hires.head()"
   ]
  },
  {
   "cell_type": "code",
   "execution_count": 141,
   "id": "242d5760",
   "metadata": {},
   "outputs": [
    {
     "data": {
      "text/plain": [
       "(1338, 9)"
      ]
     },
     "execution_count": 141,
     "metadata": {},
     "output_type": "execute_result"
    }
   ],
   "source": [
    "Hires.shape"
   ]
  },
  {
   "cell_type": "code",
   "execution_count": 142,
   "id": "1577edc9",
   "metadata": {},
   "outputs": [
    {
     "data": {
      "text/plain": [
       "Tier 1    649\n",
       "Tier 2    364\n",
       "Tier 3    325\n",
       "Name: College, dtype: int64"
      ]
     },
     "execution_count": 142,
     "metadata": {},
     "output_type": "execute_result"
    }
   ],
   "source": [
    "Hires.College.value_counts()"
   ]
  },
  {
   "cell_type": "code",
   "execution_count": 143,
   "id": "2e82135a",
   "metadata": {},
   "outputs": [
    {
     "data": {
      "text/plain": [
       "Executive    1064\n",
       "Manager       274\n",
       "Name: Role, dtype: int64"
      ]
     },
     "execution_count": 143,
     "metadata": {},
     "output_type": "execute_result"
    }
   ],
   "source": [
    "Hires.Role.value_counts()"
   ]
  },
  {
   "cell_type": "code",
   "execution_count": 144,
   "id": "db4045e6",
   "metadata": {},
   "outputs": [
    {
     "data": {
      "text/plain": [
       "Metro        676\n",
       "Non-Metro    662\n",
       "Name: City type, dtype: int64"
      ]
     },
     "execution_count": 144,
     "metadata": {},
     "output_type": "execute_result"
    }
   ],
   "source": [
    "Hires['City type'].value_counts()"
   ]
  },
  {
   "cell_type": "code",
   "execution_count": 145,
   "id": "9910dbd1",
   "metadata": {},
   "outputs": [
    {
     "data": {
      "text/html": [
       "<div>\n",
       "<style scoped>\n",
       "    .dataframe tbody tr th:only-of-type {\n",
       "        vertical-align: middle;\n",
       "    }\n",
       "\n",
       "    .dataframe tbody tr th {\n",
       "        vertical-align: top;\n",
       "    }\n",
       "\n",
       "    .dataframe thead th {\n",
       "        text-align: right;\n",
       "    }\n",
       "</style>\n",
       "<table border=\"1\" class=\"dataframe\">\n",
       "  <thead>\n",
       "    <tr style=\"text-align: right;\">\n",
       "      <th></th>\n",
       "      <th>S.No.</th>\n",
       "      <th>Previous CTC</th>\n",
       "      <th>Previous job changes</th>\n",
       "      <th>Graduation marks</th>\n",
       "      <th>Exp (Months)</th>\n",
       "      <th>CTC</th>\n",
       "    </tr>\n",
       "  </thead>\n",
       "  <tbody>\n",
       "    <tr>\n",
       "      <th>count</th>\n",
       "      <td>1338.000000</td>\n",
       "      <td>1338.000000</td>\n",
       "      <td>1338.000000</td>\n",
       "      <td>1338.000000</td>\n",
       "      <td>1338.000000</td>\n",
       "      <td>1338.000000</td>\n",
       "    </tr>\n",
       "    <tr>\n",
       "      <th>mean</th>\n",
       "      <td>669.500000</td>\n",
       "      <td>55581.762332</td>\n",
       "      <td>2.525411</td>\n",
       "      <td>59.890882</td>\n",
       "      <td>39.207025</td>\n",
       "      <td>75459.339036</td>\n",
       "    </tr>\n",
       "    <tr>\n",
       "      <th>std</th>\n",
       "      <td>386.391641</td>\n",
       "      <td>6685.600553</td>\n",
       "      <td>1.123502</td>\n",
       "      <td>14.894696</td>\n",
       "      <td>14.049960</td>\n",
       "      <td>12551.280147</td>\n",
       "    </tr>\n",
       "    <tr>\n",
       "      <th>min</th>\n",
       "      <td>1.000000</td>\n",
       "      <td>36990.000000</td>\n",
       "      <td>1.000000</td>\n",
       "      <td>35.000000</td>\n",
       "      <td>18.000000</td>\n",
       "      <td>53020.320000</td>\n",
       "    </tr>\n",
       "    <tr>\n",
       "      <th>25%</th>\n",
       "      <td>335.250000</td>\n",
       "      <td>50547.000000</td>\n",
       "      <td>2.000000</td>\n",
       "      <td>47.000000</td>\n",
       "      <td>27.000000</td>\n",
       "      <td>66905.067500</td>\n",
       "    </tr>\n",
       "    <tr>\n",
       "      <th>50%</th>\n",
       "      <td>669.500000</td>\n",
       "      <td>55293.500000</td>\n",
       "      <td>3.000000</td>\n",
       "      <td>60.000000</td>\n",
       "      <td>39.000000</td>\n",
       "      <td>73112.640000</td>\n",
       "    </tr>\n",
       "    <tr>\n",
       "      <th>75%</th>\n",
       "      <td>1003.750000</td>\n",
       "      <td>60150.500000</td>\n",
       "      <td>4.000000</td>\n",
       "      <td>73.000000</td>\n",
       "      <td>51.000000</td>\n",
       "      <td>80747.175000</td>\n",
       "    </tr>\n",
       "    <tr>\n",
       "      <th>max</th>\n",
       "      <td>1338.000000</td>\n",
       "      <td>77911.000000</td>\n",
       "      <td>4.000000</td>\n",
       "      <td>85.000000</td>\n",
       "      <td>64.000000</td>\n",
       "      <td>123416.990000</td>\n",
       "    </tr>\n",
       "  </tbody>\n",
       "</table>\n",
       "</div>"
      ],
      "text/plain": [
       "             S.No.  Previous CTC  Previous job changes  Graduation marks  \\\n",
       "count  1338.000000   1338.000000           1338.000000       1338.000000   \n",
       "mean    669.500000  55581.762332              2.525411         59.890882   \n",
       "std     386.391641   6685.600553              1.123502         14.894696   \n",
       "min       1.000000  36990.000000              1.000000         35.000000   \n",
       "25%     335.250000  50547.000000              2.000000         47.000000   \n",
       "50%     669.500000  55293.500000              3.000000         60.000000   \n",
       "75%    1003.750000  60150.500000              4.000000         73.000000   \n",
       "max    1338.000000  77911.000000              4.000000         85.000000   \n",
       "\n",
       "       Exp (Months)            CTC  \n",
       "count   1338.000000    1338.000000  \n",
       "mean      39.207025   75459.339036  \n",
       "std       14.049960   12551.280147  \n",
       "min       18.000000   53020.320000  \n",
       "25%       27.000000   66905.067500  \n",
       "50%       39.000000   73112.640000  \n",
       "75%       51.000000   80747.175000  \n",
       "max       64.000000  123416.990000  "
      ]
     },
     "execution_count": 145,
     "metadata": {},
     "output_type": "execute_result"
    }
   ],
   "source": [
    "Hires.describe()"
   ]
  },
  {
   "cell_type": "code",
   "execution_count": 146,
   "id": "0bc5ce07",
   "metadata": {},
   "outputs": [
    {
     "data": {
      "text/plain": [
       "S.No.                   0\n",
       "College                 0\n",
       "Role                    0\n",
       "City type               0\n",
       "Previous CTC            0\n",
       "Previous job changes    0\n",
       "Graduation marks        0\n",
       "Exp (Months)            0\n",
       "CTC                     0\n",
       "dtype: int64"
      ]
     },
     "execution_count": 146,
     "metadata": {},
     "output_type": "execute_result"
    }
   ],
   "source": [
    "Hires.isna().sum()"
   ]
  },
  {
   "cell_type": "code",
   "execution_count": 147,
   "id": "e607e2ef",
   "metadata": {},
   "outputs": [],
   "source": [
    "Hires = Hires.drop(['S.No.'] , axis = 1)"
   ]
  },
  {
   "cell_type": "code",
   "execution_count": 148,
   "id": "1ce00e14",
   "metadata": {},
   "outputs": [
    {
     "data": {
      "text/html": [
       "<div>\n",
       "<style scoped>\n",
       "    .dataframe tbody tr th:only-of-type {\n",
       "        vertical-align: middle;\n",
       "    }\n",
       "\n",
       "    .dataframe tbody tr th {\n",
       "        vertical-align: top;\n",
       "    }\n",
       "\n",
       "    .dataframe thead th {\n",
       "        text-align: right;\n",
       "    }\n",
       "</style>\n",
       "<table border=\"1\" class=\"dataframe\">\n",
       "  <thead>\n",
       "    <tr style=\"text-align: right;\">\n",
       "      <th></th>\n",
       "      <th>College</th>\n",
       "      <th>Role</th>\n",
       "      <th>City type</th>\n",
       "      <th>Previous CTC</th>\n",
       "      <th>Previous job changes</th>\n",
       "      <th>Graduation marks</th>\n",
       "      <th>Exp (Months)</th>\n",
       "      <th>CTC</th>\n",
       "    </tr>\n",
       "  </thead>\n",
       "  <tbody>\n",
       "    <tr>\n",
       "      <th>0</th>\n",
       "      <td>Tier 1</td>\n",
       "      <td>Manager</td>\n",
       "      <td>Non-Metro</td>\n",
       "      <td>55523</td>\n",
       "      <td>3</td>\n",
       "      <td>66</td>\n",
       "      <td>19</td>\n",
       "      <td>71406.58</td>\n",
       "    </tr>\n",
       "    <tr>\n",
       "      <th>1</th>\n",
       "      <td>Tier 2</td>\n",
       "      <td>Executive</td>\n",
       "      <td>Metro</td>\n",
       "      <td>57081</td>\n",
       "      <td>1</td>\n",
       "      <td>84</td>\n",
       "      <td>18</td>\n",
       "      <td>68005.87</td>\n",
       "    </tr>\n",
       "    <tr>\n",
       "      <th>2</th>\n",
       "      <td>Tier 2</td>\n",
       "      <td>Executive</td>\n",
       "      <td>Metro</td>\n",
       "      <td>60347</td>\n",
       "      <td>2</td>\n",
       "      <td>52</td>\n",
       "      <td>28</td>\n",
       "      <td>76764.02</td>\n",
       "    </tr>\n",
       "    <tr>\n",
       "      <th>3</th>\n",
       "      <td>Tier 3</td>\n",
       "      <td>Executive</td>\n",
       "      <td>Metro</td>\n",
       "      <td>49010</td>\n",
       "      <td>2</td>\n",
       "      <td>81</td>\n",
       "      <td>33</td>\n",
       "      <td>82092.39</td>\n",
       "    </tr>\n",
       "    <tr>\n",
       "      <th>4</th>\n",
       "      <td>Tier 3</td>\n",
       "      <td>Executive</td>\n",
       "      <td>Metro</td>\n",
       "      <td>57879</td>\n",
       "      <td>4</td>\n",
       "      <td>74</td>\n",
       "      <td>32</td>\n",
       "      <td>73878.10</td>\n",
       "    </tr>\n",
       "    <tr>\n",
       "      <th>...</th>\n",
       "      <td>...</td>\n",
       "      <td>...</td>\n",
       "      <td>...</td>\n",
       "      <td>...</td>\n",
       "      <td>...</td>\n",
       "      <td>...</td>\n",
       "      <td>...</td>\n",
       "      <td>...</td>\n",
       "    </tr>\n",
       "    <tr>\n",
       "      <th>1333</th>\n",
       "      <td>Tier 3</td>\n",
       "      <td>Executive</td>\n",
       "      <td>Metro</td>\n",
       "      <td>59661</td>\n",
       "      <td>4</td>\n",
       "      <td>68</td>\n",
       "      <td>50</td>\n",
       "      <td>69712.40</td>\n",
       "    </tr>\n",
       "    <tr>\n",
       "      <th>1334</th>\n",
       "      <td>Tier 1</td>\n",
       "      <td>Executive</td>\n",
       "      <td>Non-Metro</td>\n",
       "      <td>53714</td>\n",
       "      <td>1</td>\n",
       "      <td>67</td>\n",
       "      <td>18</td>\n",
       "      <td>69298.75</td>\n",
       "    </tr>\n",
       "    <tr>\n",
       "      <th>1335</th>\n",
       "      <td>Tier 2</td>\n",
       "      <td>Executive</td>\n",
       "      <td>Non-Metro</td>\n",
       "      <td>61957</td>\n",
       "      <td>1</td>\n",
       "      <td>47</td>\n",
       "      <td>18</td>\n",
       "      <td>66397.77</td>\n",
       "    </tr>\n",
       "    <tr>\n",
       "      <th>1336</th>\n",
       "      <td>Tier 1</td>\n",
       "      <td>Executive</td>\n",
       "      <td>Non-Metro</td>\n",
       "      <td>53203</td>\n",
       "      <td>3</td>\n",
       "      <td>69</td>\n",
       "      <td>21</td>\n",
       "      <td>64044.38</td>\n",
       "    </tr>\n",
       "    <tr>\n",
       "      <th>1337</th>\n",
       "      <td>Tier 3</td>\n",
       "      <td>Manager</td>\n",
       "      <td>Non-Metro</td>\n",
       "      <td>51820</td>\n",
       "      <td>1</td>\n",
       "      <td>47</td>\n",
       "      <td>61</td>\n",
       "      <td>83346.06</td>\n",
       "    </tr>\n",
       "  </tbody>\n",
       "</table>\n",
       "<p>1338 rows × 8 columns</p>\n",
       "</div>"
      ],
      "text/plain": [
       "     College       Role  City type  Previous CTC  Previous job changes  \\\n",
       "0     Tier 1    Manager  Non-Metro         55523                     3   \n",
       "1     Tier 2  Executive      Metro         57081                     1   \n",
       "2     Tier 2  Executive      Metro         60347                     2   \n",
       "3     Tier 3  Executive      Metro         49010                     2   \n",
       "4     Tier 3  Executive      Metro         57879                     4   \n",
       "...      ...        ...        ...           ...                   ...   \n",
       "1333  Tier 3  Executive      Metro         59661                     4   \n",
       "1334  Tier 1  Executive  Non-Metro         53714                     1   \n",
       "1335  Tier 2  Executive  Non-Metro         61957                     1   \n",
       "1336  Tier 1  Executive  Non-Metro         53203                     3   \n",
       "1337  Tier 3    Manager  Non-Metro         51820                     1   \n",
       "\n",
       "      Graduation marks  Exp (Months)       CTC  \n",
       "0                   66            19  71406.58  \n",
       "1                   84            18  68005.87  \n",
       "2                   52            28  76764.02  \n",
       "3                   81            33  82092.39  \n",
       "4                   74            32  73878.10  \n",
       "...                ...           ...       ...  \n",
       "1333                68            50  69712.40  \n",
       "1334                67            18  69298.75  \n",
       "1335                47            18  66397.77  \n",
       "1336                69            21  64044.38  \n",
       "1337                47            61  83346.06  \n",
       "\n",
       "[1338 rows x 8 columns]"
      ]
     },
     "execution_count": 148,
     "metadata": {},
     "output_type": "execute_result"
    }
   ],
   "source": [
    "Hires"
   ]
  },
  {
   "cell_type": "code",
   "execution_count": 149,
   "id": "653331c5",
   "metadata": {},
   "outputs": [],
   "source": [
    "# Transform categorical variables to the numerical variables\n",
    "CollegeD = pd.get_dummies(Hires.College , prefix = 'colleges').iloc[:, :2]\n",
    "RoleD = pd.get_dummies(Hires.Role , prefix = 'roles').iloc[:, 1:]\n",
    "CityT = pd.get_dummies(Hires['City type'] , prefix = 'citytype').iloc[:, 0:1]"
   ]
  },
  {
   "cell_type": "code",
   "execution_count": 150,
   "id": "37dd9adc",
   "metadata": {},
   "outputs": [],
   "source": [
    "Hires =pd.concat([Hires , CollegeD , RoleD , CityT] , axis = 1)"
   ]
  },
  {
   "cell_type": "code",
   "execution_count": 151,
   "id": "ed6d7536",
   "metadata": {},
   "outputs": [
    {
     "data": {
      "text/html": [
       "<div>\n",
       "<style scoped>\n",
       "    .dataframe tbody tr th:only-of-type {\n",
       "        vertical-align: middle;\n",
       "    }\n",
       "\n",
       "    .dataframe tbody tr th {\n",
       "        vertical-align: top;\n",
       "    }\n",
       "\n",
       "    .dataframe thead th {\n",
       "        text-align: right;\n",
       "    }\n",
       "</style>\n",
       "<table border=\"1\" class=\"dataframe\">\n",
       "  <thead>\n",
       "    <tr style=\"text-align: right;\">\n",
       "      <th></th>\n",
       "      <th>College</th>\n",
       "      <th>Role</th>\n",
       "      <th>City type</th>\n",
       "      <th>Previous CTC</th>\n",
       "      <th>Previous job changes</th>\n",
       "      <th>Graduation marks</th>\n",
       "      <th>Exp (Months)</th>\n",
       "      <th>CTC</th>\n",
       "      <th>colleges_Tier 1</th>\n",
       "      <th>colleges_Tier 2</th>\n",
       "      <th>roles_Manager</th>\n",
       "      <th>citytype_Metro</th>\n",
       "    </tr>\n",
       "  </thead>\n",
       "  <tbody>\n",
       "    <tr>\n",
       "      <th>0</th>\n",
       "      <td>Tier 1</td>\n",
       "      <td>Manager</td>\n",
       "      <td>Non-Metro</td>\n",
       "      <td>55523</td>\n",
       "      <td>3</td>\n",
       "      <td>66</td>\n",
       "      <td>19</td>\n",
       "      <td>71406.58</td>\n",
       "      <td>1</td>\n",
       "      <td>0</td>\n",
       "      <td>1</td>\n",
       "      <td>0</td>\n",
       "    </tr>\n",
       "    <tr>\n",
       "      <th>1</th>\n",
       "      <td>Tier 2</td>\n",
       "      <td>Executive</td>\n",
       "      <td>Metro</td>\n",
       "      <td>57081</td>\n",
       "      <td>1</td>\n",
       "      <td>84</td>\n",
       "      <td>18</td>\n",
       "      <td>68005.87</td>\n",
       "      <td>0</td>\n",
       "      <td>1</td>\n",
       "      <td>0</td>\n",
       "      <td>1</td>\n",
       "    </tr>\n",
       "    <tr>\n",
       "      <th>2</th>\n",
       "      <td>Tier 2</td>\n",
       "      <td>Executive</td>\n",
       "      <td>Metro</td>\n",
       "      <td>60347</td>\n",
       "      <td>2</td>\n",
       "      <td>52</td>\n",
       "      <td>28</td>\n",
       "      <td>76764.02</td>\n",
       "      <td>0</td>\n",
       "      <td>1</td>\n",
       "      <td>0</td>\n",
       "      <td>1</td>\n",
       "    </tr>\n",
       "    <tr>\n",
       "      <th>3</th>\n",
       "      <td>Tier 3</td>\n",
       "      <td>Executive</td>\n",
       "      <td>Metro</td>\n",
       "      <td>49010</td>\n",
       "      <td>2</td>\n",
       "      <td>81</td>\n",
       "      <td>33</td>\n",
       "      <td>82092.39</td>\n",
       "      <td>0</td>\n",
       "      <td>0</td>\n",
       "      <td>0</td>\n",
       "      <td>1</td>\n",
       "    </tr>\n",
       "    <tr>\n",
       "      <th>4</th>\n",
       "      <td>Tier 3</td>\n",
       "      <td>Executive</td>\n",
       "      <td>Metro</td>\n",
       "      <td>57879</td>\n",
       "      <td>4</td>\n",
       "      <td>74</td>\n",
       "      <td>32</td>\n",
       "      <td>73878.10</td>\n",
       "      <td>0</td>\n",
       "      <td>0</td>\n",
       "      <td>0</td>\n",
       "      <td>1</td>\n",
       "    </tr>\n",
       "    <tr>\n",
       "      <th>...</th>\n",
       "      <td>...</td>\n",
       "      <td>...</td>\n",
       "      <td>...</td>\n",
       "      <td>...</td>\n",
       "      <td>...</td>\n",
       "      <td>...</td>\n",
       "      <td>...</td>\n",
       "      <td>...</td>\n",
       "      <td>...</td>\n",
       "      <td>...</td>\n",
       "      <td>...</td>\n",
       "      <td>...</td>\n",
       "    </tr>\n",
       "    <tr>\n",
       "      <th>1333</th>\n",
       "      <td>Tier 3</td>\n",
       "      <td>Executive</td>\n",
       "      <td>Metro</td>\n",
       "      <td>59661</td>\n",
       "      <td>4</td>\n",
       "      <td>68</td>\n",
       "      <td>50</td>\n",
       "      <td>69712.40</td>\n",
       "      <td>0</td>\n",
       "      <td>0</td>\n",
       "      <td>0</td>\n",
       "      <td>1</td>\n",
       "    </tr>\n",
       "    <tr>\n",
       "      <th>1334</th>\n",
       "      <td>Tier 1</td>\n",
       "      <td>Executive</td>\n",
       "      <td>Non-Metro</td>\n",
       "      <td>53714</td>\n",
       "      <td>1</td>\n",
       "      <td>67</td>\n",
       "      <td>18</td>\n",
       "      <td>69298.75</td>\n",
       "      <td>1</td>\n",
       "      <td>0</td>\n",
       "      <td>0</td>\n",
       "      <td>0</td>\n",
       "    </tr>\n",
       "    <tr>\n",
       "      <th>1335</th>\n",
       "      <td>Tier 2</td>\n",
       "      <td>Executive</td>\n",
       "      <td>Non-Metro</td>\n",
       "      <td>61957</td>\n",
       "      <td>1</td>\n",
       "      <td>47</td>\n",
       "      <td>18</td>\n",
       "      <td>66397.77</td>\n",
       "      <td>0</td>\n",
       "      <td>1</td>\n",
       "      <td>0</td>\n",
       "      <td>0</td>\n",
       "    </tr>\n",
       "    <tr>\n",
       "      <th>1336</th>\n",
       "      <td>Tier 1</td>\n",
       "      <td>Executive</td>\n",
       "      <td>Non-Metro</td>\n",
       "      <td>53203</td>\n",
       "      <td>3</td>\n",
       "      <td>69</td>\n",
       "      <td>21</td>\n",
       "      <td>64044.38</td>\n",
       "      <td>1</td>\n",
       "      <td>0</td>\n",
       "      <td>0</td>\n",
       "      <td>0</td>\n",
       "    </tr>\n",
       "    <tr>\n",
       "      <th>1337</th>\n",
       "      <td>Tier 3</td>\n",
       "      <td>Manager</td>\n",
       "      <td>Non-Metro</td>\n",
       "      <td>51820</td>\n",
       "      <td>1</td>\n",
       "      <td>47</td>\n",
       "      <td>61</td>\n",
       "      <td>83346.06</td>\n",
       "      <td>0</td>\n",
       "      <td>0</td>\n",
       "      <td>1</td>\n",
       "      <td>0</td>\n",
       "    </tr>\n",
       "  </tbody>\n",
       "</table>\n",
       "<p>1338 rows × 12 columns</p>\n",
       "</div>"
      ],
      "text/plain": [
       "     College       Role  City type  Previous CTC  Previous job changes  \\\n",
       "0     Tier 1    Manager  Non-Metro         55523                     3   \n",
       "1     Tier 2  Executive      Metro         57081                     1   \n",
       "2     Tier 2  Executive      Metro         60347                     2   \n",
       "3     Tier 3  Executive      Metro         49010                     2   \n",
       "4     Tier 3  Executive      Metro         57879                     4   \n",
       "...      ...        ...        ...           ...                   ...   \n",
       "1333  Tier 3  Executive      Metro         59661                     4   \n",
       "1334  Tier 1  Executive  Non-Metro         53714                     1   \n",
       "1335  Tier 2  Executive  Non-Metro         61957                     1   \n",
       "1336  Tier 1  Executive  Non-Metro         53203                     3   \n",
       "1337  Tier 3    Manager  Non-Metro         51820                     1   \n",
       "\n",
       "      Graduation marks  Exp (Months)       CTC  colleges_Tier 1  \\\n",
       "0                   66            19  71406.58                1   \n",
       "1                   84            18  68005.87                0   \n",
       "2                   52            28  76764.02                0   \n",
       "3                   81            33  82092.39                0   \n",
       "4                   74            32  73878.10                0   \n",
       "...                ...           ...       ...              ...   \n",
       "1333                68            50  69712.40                0   \n",
       "1334                67            18  69298.75                1   \n",
       "1335                47            18  66397.77                0   \n",
       "1336                69            21  64044.38                1   \n",
       "1337                47            61  83346.06                0   \n",
       "\n",
       "      colleges_Tier 2  roles_Manager  citytype_Metro  \n",
       "0                   0              1               0  \n",
       "1                   1              0               1  \n",
       "2                   1              0               1  \n",
       "3                   0              0               1  \n",
       "4                   0              0               1  \n",
       "...               ...            ...             ...  \n",
       "1333                0              0               1  \n",
       "1334                0              0               0  \n",
       "1335                1              0               0  \n",
       "1336                0              0               0  \n",
       "1337                0              1               0  \n",
       "\n",
       "[1338 rows x 12 columns]"
      ]
     },
     "execution_count": 151,
     "metadata": {},
     "output_type": "execute_result"
    }
   ],
   "source": [
    "Hires"
   ]
  },
  {
   "cell_type": "code",
   "execution_count": 152,
   "id": "25c3be98",
   "metadata": {},
   "outputs": [],
   "source": [
    "Hires = Hires.drop(['College' , 'Role' , 'City type'] , axis = 1)"
   ]
  },
  {
   "cell_type": "code",
   "execution_count": 153,
   "id": "a14d08bb",
   "metadata": {},
   "outputs": [
    {
     "data": {
      "text/html": [
       "<div>\n",
       "<style scoped>\n",
       "    .dataframe tbody tr th:only-of-type {\n",
       "        vertical-align: middle;\n",
       "    }\n",
       "\n",
       "    .dataframe tbody tr th {\n",
       "        vertical-align: top;\n",
       "    }\n",
       "\n",
       "    .dataframe thead th {\n",
       "        text-align: right;\n",
       "    }\n",
       "</style>\n",
       "<table border=\"1\" class=\"dataframe\">\n",
       "  <thead>\n",
       "    <tr style=\"text-align: right;\">\n",
       "      <th></th>\n",
       "      <th>Previous CTC</th>\n",
       "      <th>Previous job changes</th>\n",
       "      <th>Graduation marks</th>\n",
       "      <th>Exp (Months)</th>\n",
       "      <th>CTC</th>\n",
       "      <th>colleges_Tier 1</th>\n",
       "      <th>colleges_Tier 2</th>\n",
       "      <th>roles_Manager</th>\n",
       "      <th>citytype_Metro</th>\n",
       "    </tr>\n",
       "  </thead>\n",
       "  <tbody>\n",
       "    <tr>\n",
       "      <th>0</th>\n",
       "      <td>55523</td>\n",
       "      <td>3</td>\n",
       "      <td>66</td>\n",
       "      <td>19</td>\n",
       "      <td>71406.58</td>\n",
       "      <td>1</td>\n",
       "      <td>0</td>\n",
       "      <td>1</td>\n",
       "      <td>0</td>\n",
       "    </tr>\n",
       "    <tr>\n",
       "      <th>1</th>\n",
       "      <td>57081</td>\n",
       "      <td>1</td>\n",
       "      <td>84</td>\n",
       "      <td>18</td>\n",
       "      <td>68005.87</td>\n",
       "      <td>0</td>\n",
       "      <td>1</td>\n",
       "      <td>0</td>\n",
       "      <td>1</td>\n",
       "    </tr>\n",
       "    <tr>\n",
       "      <th>2</th>\n",
       "      <td>60347</td>\n",
       "      <td>2</td>\n",
       "      <td>52</td>\n",
       "      <td>28</td>\n",
       "      <td>76764.02</td>\n",
       "      <td>0</td>\n",
       "      <td>1</td>\n",
       "      <td>0</td>\n",
       "      <td>1</td>\n",
       "    </tr>\n",
       "    <tr>\n",
       "      <th>3</th>\n",
       "      <td>49010</td>\n",
       "      <td>2</td>\n",
       "      <td>81</td>\n",
       "      <td>33</td>\n",
       "      <td>82092.39</td>\n",
       "      <td>0</td>\n",
       "      <td>0</td>\n",
       "      <td>0</td>\n",
       "      <td>1</td>\n",
       "    </tr>\n",
       "    <tr>\n",
       "      <th>4</th>\n",
       "      <td>57879</td>\n",
       "      <td>4</td>\n",
       "      <td>74</td>\n",
       "      <td>32</td>\n",
       "      <td>73878.10</td>\n",
       "      <td>0</td>\n",
       "      <td>0</td>\n",
       "      <td>0</td>\n",
       "      <td>1</td>\n",
       "    </tr>\n",
       "  </tbody>\n",
       "</table>\n",
       "</div>"
      ],
      "text/plain": [
       "   Previous CTC  Previous job changes  Graduation marks  Exp (Months)  \\\n",
       "0         55523                     3                66            19   \n",
       "1         57081                     1                84            18   \n",
       "2         60347                     2                52            28   \n",
       "3         49010                     2                81            33   \n",
       "4         57879                     4                74            32   \n",
       "\n",
       "        CTC  colleges_Tier 1  colleges_Tier 2  roles_Manager  citytype_Metro  \n",
       "0  71406.58                1                0              1               0  \n",
       "1  68005.87                0                1              0               1  \n",
       "2  76764.02                0                1              0               1  \n",
       "3  82092.39                0                0              0               1  \n",
       "4  73878.10                0                0              0               1  "
      ]
     },
     "execution_count": 153,
     "metadata": {},
     "output_type": "execute_result"
    }
   ],
   "source": [
    "Hires.head()"
   ]
  },
  {
   "cell_type": "code",
   "execution_count": 154,
   "id": "db7bf73e",
   "metadata": {},
   "outputs": [],
   "source": [
    "# rearranging columns\n",
    "columnsTitles = ['colleges_Tier 1' , 'colleges_Tier 2' , 'roles_Manager' ,'citytype_Metro' , 'Previous CTC' , 'Previous job changes' , 'Graduation marks' , 'Exp (Months)' , 'CTC']\n",
    "\n",
    "Hires = Hires.reindex(columns=columnsTitles)"
   ]
  },
  {
   "cell_type": "code",
   "execution_count": 155,
   "id": "7a0c184a",
   "metadata": {},
   "outputs": [],
   "source": [
    "Hires = Hires.astype(float)"
   ]
  },
  {
   "cell_type": "code",
   "execution_count": 156,
   "id": "b783eb0a",
   "metadata": {},
   "outputs": [
    {
     "data": {
      "text/plain": [
       "colleges_Tier 1         float64\n",
       "colleges_Tier 2         float64\n",
       "roles_Manager           float64\n",
       "citytype_Metro          float64\n",
       "Previous CTC            float64\n",
       "Previous job changes    float64\n",
       "Graduation marks        float64\n",
       "Exp (Months)            float64\n",
       "CTC                     float64\n",
       "dtype: object"
      ]
     },
     "execution_count": 156,
     "metadata": {},
     "output_type": "execute_result"
    }
   ],
   "source": [
    "Hires.dtypes"
   ]
  },
  {
   "cell_type": "code",
   "execution_count": 157,
   "id": "4742fb77",
   "metadata": {},
   "outputs": [],
   "source": [
    "X = Hires.drop('CTC' , axis = 1)\n",
    "y = Hires['CTC']"
   ]
  },
  {
   "cell_type": "markdown",
   "id": "8a21bb6e",
   "metadata": {},
   "source": [
    "## Applying Linear Regression Model"
   ]
  },
  {
   "cell_type": "code",
   "execution_count": 188,
   "id": "553161ea",
   "metadata": {},
   "outputs": [],
   "source": [
    "# splitting training and testing data in 70:30 ratio\n",
    "from sklearn.model_selection import train_test_split\n",
    "train_X  , test_X , train_y , test_y = train_test_split(X, y, test_size = 0.3 , random_state = 2) "
   ]
  },
  {
   "cell_type": "code",
   "execution_count": 159,
   "id": "1bb39c87",
   "metadata": {},
   "outputs": [],
   "source": [
    "# using linear regression model\n",
    "from sklearn.linear_model import LinearRegression\n",
    "reg = LinearRegression().fit(train_X, train_y)"
   ]
  },
  {
   "cell_type": "code",
   "execution_count": 160,
   "id": "c5879266",
   "metadata": {},
   "outputs": [
    {
     "data": {
      "text/plain": [
       "0.6372176223093018"
      ]
     },
     "execution_count": 160,
     "metadata": {},
     "output_type": "execute_result"
    }
   ],
   "source": [
    "# regression score\n",
    "reg.score(test_X, test_y)"
   ]
  },
  {
   "cell_type": "code",
   "execution_count": 161,
   "id": "76ea7b1d",
   "metadata": {},
   "outputs": [
    {
     "data": {
      "text/plain": [
       "0.5915885948488417"
      ]
     },
     "execution_count": 161,
     "metadata": {},
     "output_type": "execute_result"
    }
   ],
   "source": [
    "reg.score(train_X, train_y) "
   ]
  },
  {
   "cell_type": "code",
   "execution_count": 162,
   "id": "9fecb3a5",
   "metadata": {},
   "outputs": [],
   "source": [
    "test_data_prediction = reg.predict(test_X)"
   ]
  },
  {
   "cell_type": "code",
   "execution_count": 163,
   "id": "271cb252",
   "metadata": {},
   "outputs": [
    {
     "data": {
      "text/plain": [
       "array([ 71347.32613176,  73480.76949211,  79633.53461659,  63874.7858195 ,\n",
       "        71449.44149352,  70619.51186143,  64080.05645792,  66253.9738497 ,\n",
       "        70027.64089918,  68910.15193052,  71500.5565045 ,  64965.72913258,\n",
       "        82739.5365174 ,  62345.17006338,  76232.43897453,  73527.9562203 ,\n",
       "        72413.78877105,  67186.48536473,  85148.66537248,  67775.32876438,\n",
       "        69853.46057956,  67430.05262246,  94402.12467304,  89969.42662847,\n",
       "        88072.80894425,  74576.2418352 ,  63903.01810646,  77836.00379858,\n",
       "        72203.01445207,  59399.85876326,  69263.46519975,  63103.43228617,\n",
       "        68174.51507882,  65368.24833646,  68234.74760572,  64853.2831886 ,\n",
       "        87833.09771776,  77033.85179737,  88947.731099  ,  76358.19380403,\n",
       "        56969.52106914,  92562.56906471,  65428.35990372,  66666.10141943,\n",
       "        70109.25853791,  70935.71789937,  72595.62698124,  74277.34314119,\n",
       "        75136.38239588,  81913.36564817,  73328.71257266,  68355.0354054 ,\n",
       "        81446.40819232,  94021.26009622,  71660.39044822,  80677.73056652,\n",
       "        68253.9336761 ,  73185.33920822,  65561.29887066,  93476.42674999,\n",
       "        72729.58343285,  67930.14363617,  62471.62037665,  94219.12536624,\n",
       "        64942.06269917,  82015.43857389,  83503.96072826,  64735.08287493,\n",
       "        70334.68481026,  71242.89900771,  75725.50209117,  74356.17694959,\n",
       "        72773.67216126,  73723.83605173,  82997.48616154,  78435.92928285,\n",
       "        69237.23489623,  69013.98073275,  70085.25397998,  71558.9105911 ,\n",
       "        77270.45066494,  79163.45090429,  75654.44401   ,  87476.37159412,\n",
       "        77176.67254783,  63693.25850032,  97694.61976059,  73496.51509309,\n",
       "        75978.57653257,  75038.32664227,  73968.68238117,  85432.78429638,\n",
       "        66937.22672414,  77939.78663407,  69787.35881313,  84279.40720237,\n",
       "        63099.2648745 ,  72237.51293638,  64177.60666556,  85862.61699746,\n",
       "        69540.97684937,  66567.29618024,  63905.92205217,  77651.01709751,\n",
       "        69927.17711873,  77335.32458614,  71766.56192875,  63908.67407295,\n",
       "        79179.79870105,  91717.2513334 ,  61742.31626145,  76489.24832777,\n",
       "        87579.24596083,  78842.92411204,  67788.44260659,  67735.7028983 ,\n",
       "        74309.67518168,  69183.42023501,  77158.99894828,  89448.29368883,\n",
       "        73065.01831914,  68227.43970686,  77422.71057504,  79864.92868374,\n",
       "        68095.82368608,  85018.50537137,  91167.61766379,  73528.66366207,\n",
       "        64191.68642053,  69939.7534954 ,  67342.61304663,  71968.8016258 ,\n",
       "        70035.00956613,  64497.71617019,  64035.09978295,  71729.58398296,\n",
       "        69758.89364912,  90170.68552709,  94595.15082745,  66431.56513614,\n",
       "        93464.64994479,  61773.55268126,  67209.39484218,  76524.8362596 ,\n",
       "        76569.39262525,  89030.4621329 ,  74961.30466661,  74055.6606826 ,\n",
       "        67370.21361648,  69590.91824378,  68527.59642495,  68273.98234413,\n",
       "        63448.93358705,  80976.83167278,  76978.15547605,  73941.51893367,\n",
       "        72728.42482271,  90460.48100836,  59860.40357417,  74710.82500576,\n",
       "        82204.28722019,  75729.66671201,  75384.06214328,  63792.07211239,\n",
       "        64258.20682375,  66850.0689548 ,  80697.7042411 ,  91504.03792445,\n",
       "        82137.58031783,  67888.96296938,  92732.12242315,  79579.3081769 ,\n",
       "        90510.03956709,  91000.00334903,  76276.32680754,  72547.19894527,\n",
       "        69521.40881477,  65779.91294487,  76453.44266042,  72256.38387758,\n",
       "        65156.68972421,  65182.57770115,  85578.54469299,  68527.66643624,\n",
       "        72052.85208775,  84048.67102394,  77351.53777341,  60687.21509757,\n",
       "        68746.31100763,  93753.94212031,  67363.68494305,  63413.75218774,\n",
       "        69535.98088583,  82990.35467701,  73563.85640095,  99044.89432178,\n",
       "       102737.90025794,  76499.03263734,  83135.67466747,  82112.8763039 ,\n",
       "        93660.34412177,  69728.99921554,  67930.77367113,  61931.08203401,\n",
       "        73761.82149394,  76202.45432801,  70761.1740545 ,  95526.54901303,\n",
       "        81437.50532397,  67283.05929351,  68598.95516883,  88199.81523877,\n",
       "        66801.79550441,  72372.83516611,  69612.3072419 ,  75013.7109015 ,\n",
       "        91820.53647137,  66793.85894986,  63672.91724474,  70218.09725462,\n",
       "        99745.51670953,  71675.9789887 ,  94861.42654564,  88305.76380256,\n",
       "        73521.75828484,  81590.14441444,  79590.51538394,  65776.9636773 ,\n",
       "        72210.91524756,  70905.21919585,  73948.29160565,  68582.6468439 ,\n",
       "        71483.90790863,  66637.72282247,  85085.36862959,  86056.5277235 ,\n",
       "        83571.152122  ,  74590.72965246,  69845.00329509,  64790.43231296,\n",
       "        73151.45041783,  70331.01650898,  74048.60357423,  69511.03778747,\n",
       "        92555.10291806,  89111.23634924,  65253.95665021,  79187.0318422 ,\n",
       "        76131.10288238,  68286.47116844,  77496.09324647,  67299.22731133,\n",
       "        68622.14116342,  77920.10430276,  80623.66986171,  65110.66252981,\n",
       "        74171.36396378,  69000.43173943,  63617.78176627,  71013.84975704,\n",
       "        88762.9940319 ,  88225.6054709 ,  96362.91243749,  62678.3944449 ,\n",
       "        85842.74092568,  89435.01131508,  76447.43873609,  88646.89402652,\n",
       "        62735.36641298,  69112.17179013,  76679.23927085,  66552.30623518,\n",
       "        68390.7433137 ,  98562.03378622,  72011.40472086,  78252.48143874,\n",
       "        70662.01482129,  93381.85705577,  76980.04837985,  88571.8652252 ,\n",
       "        58780.29988184,  70448.03951863,  64504.90889364,  67350.48971935,\n",
       "        99847.54793   ,  86398.91863901,  88872.22173688,  68353.89833081,\n",
       "        75740.14429448,  86052.27673904,  69313.64238104,  67756.1979618 ,\n",
       "        77616.20134117,  77097.51313805,  67560.60822627,  60461.68339344,\n",
       "        72070.10454828,  66761.94689525,  68954.56205716,  72944.77338482,\n",
       "        65320.92292595,  71919.69419038,  88148.1012078 ,  67995.83971502,\n",
       "        71449.82204061,  73014.57533862,  73814.58236665,  73399.30769712,\n",
       "        97362.3895786 ,  67478.34629709,  79134.58177253,  74766.11789986,\n",
       "        69025.07292801,  64989.65347487,  79191.79551257,  77707.96439012,\n",
       "        73939.80169826,  83664.35178845,  73453.86064986,  77341.83753426,\n",
       "        73940.06117158,  91405.71928237,  77476.23984981,  63362.32024247,\n",
       "        63167.64673696,  75251.07798246,  71278.35589672,  76139.56966766,\n",
       "        69090.09991529,  67005.5928492 ,  78153.20564627,  86017.14522626,\n",
       "        65625.72321471,  79647.80311477,  73309.98167587,  66520.04159155,\n",
       "        83921.39283882,  87575.67255614,  79026.20238845,  65786.96833686,\n",
       "        77010.97430231,  92055.47036561,  66069.62181664,  76441.98714641,\n",
       "        91008.77920683,  78565.51453656,  70337.64172065,  95916.2070811 ,\n",
       "        76808.68419845,  70542.65528203,  66975.84683684,  71439.57927911,\n",
       "        64742.43760398,  71245.66873076,  63751.01122017,  71430.86768433,\n",
       "        74718.18013742,  68610.45000918,  96563.78237528,  71962.2688965 ,\n",
       "        86091.43168368,  79190.88700416,  74709.01367218,  73441.41737703,\n",
       "       104729.2201411 ,  75065.27252169,  92606.27450421,  80917.60788213,\n",
       "        60616.72537321,  96183.86017432,  65585.00674771,  71132.51662641,\n",
       "        76836.40960048,  78058.08576343,  93921.00013588,  76856.08645435,\n",
       "        66913.26114654, 104337.580074  ,  62301.52588901,  84330.9081926 ,\n",
       "        69054.484293  ,  88886.45768071,  69281.9139229 ,  81482.3983538 ,\n",
       "        74022.06023293,  67091.13132497,  94991.94810219,  77696.07793809,\n",
       "        64994.53746015,  73495.1882206 ,  74833.98651841,  74861.6040543 ,\n",
       "        66285.80691525, 101495.9983306 ,  70088.18777948,  72903.23325992,\n",
       "        72601.23792837,  65897.60079042,  70080.29507525,  97390.9915193 ,\n",
       "        90104.93513994,  68281.97011994])"
      ]
     },
     "execution_count": 163,
     "metadata": {},
     "output_type": "execute_result"
    }
   ],
   "source": [
    "test_data_prediction"
   ]
  },
  {
   "cell_type": "code",
   "execution_count": 164,
   "id": "693c3a2d",
   "metadata": {},
   "outputs": [
    {
     "name": "stdout",
     "output_type": "stream",
     "text": [
      "R2 score :  0.6372176223093018\n"
     ]
    }
   ],
   "source": [
    "# Using R2 score to know how well the model performed\n",
    "from sklearn import metrics\n",
    "score = metrics.r2_score(test_y, test_data_prediction)\n",
    "print(\"R2 score : \", score)"
   ]
  },
  {
   "cell_type": "code",
   "execution_count": 165,
   "id": "7b1e0012",
   "metadata": {},
   "outputs": [],
   "source": [
    "test = pd.read_csv('testhires.csv')"
   ]
  },
  {
   "cell_type": "code",
   "execution_count": 166,
   "id": "92071d4a",
   "metadata": {},
   "outputs": [
    {
     "data": {
      "text/html": [
       "<div>\n",
       "<style scoped>\n",
       "    .dataframe tbody tr th:only-of-type {\n",
       "        vertical-align: middle;\n",
       "    }\n",
       "\n",
       "    .dataframe tbody tr th {\n",
       "        vertical-align: top;\n",
       "    }\n",
       "\n",
       "    .dataframe thead th {\n",
       "        text-align: right;\n",
       "    }\n",
       "</style>\n",
       "<table border=\"1\" class=\"dataframe\">\n",
       "  <thead>\n",
       "    <tr style=\"text-align: right;\">\n",
       "      <th></th>\n",
       "      <th>College</th>\n",
       "      <th>Role</th>\n",
       "      <th>City type</th>\n",
       "      <th>College_T1</th>\n",
       "      <th>College_T2</th>\n",
       "      <th>Role_Manager</th>\n",
       "      <th>City_Metro</th>\n",
       "      <th>previous CTC</th>\n",
       "      <th>previous job changes</th>\n",
       "      <th>Graduation marks</th>\n",
       "      <th>Exp</th>\n",
       "      <th>Actual CTC</th>\n",
       "      <th>Predicted CTC</th>\n",
       "    </tr>\n",
       "  </thead>\n",
       "  <tbody>\n",
       "    <tr>\n",
       "      <th>0</th>\n",
       "      <td>Tier 1</td>\n",
       "      <td>Manager</td>\n",
       "      <td>Non-Metro</td>\n",
       "      <td>1</td>\n",
       "      <td>0</td>\n",
       "      <td>1</td>\n",
       "      <td>0</td>\n",
       "      <td>55523</td>\n",
       "      <td>3</td>\n",
       "      <td>66</td>\n",
       "      <td>19</td>\n",
       "      <td>71406.57653</td>\n",
       "      <td>NaN</td>\n",
       "    </tr>\n",
       "    <tr>\n",
       "      <th>1</th>\n",
       "      <td>Tier 2</td>\n",
       "      <td>Executive</td>\n",
       "      <td>Metro</td>\n",
       "      <td>0</td>\n",
       "      <td>1</td>\n",
       "      <td>0</td>\n",
       "      <td>1</td>\n",
       "      <td>57081</td>\n",
       "      <td>1</td>\n",
       "      <td>84</td>\n",
       "      <td>18</td>\n",
       "      <td>68005.87063</td>\n",
       "      <td>NaN</td>\n",
       "    </tr>\n",
       "    <tr>\n",
       "      <th>2</th>\n",
       "      <td>Tier 2</td>\n",
       "      <td>Executive</td>\n",
       "      <td>Metro</td>\n",
       "      <td>0</td>\n",
       "      <td>1</td>\n",
       "      <td>0</td>\n",
       "      <td>1</td>\n",
       "      <td>60347</td>\n",
       "      <td>2</td>\n",
       "      <td>52</td>\n",
       "      <td>28</td>\n",
       "      <td>76764.02028</td>\n",
       "      <td>NaN</td>\n",
       "    </tr>\n",
       "    <tr>\n",
       "      <th>3</th>\n",
       "      <td>Tier 3</td>\n",
       "      <td>Executive</td>\n",
       "      <td>Metro</td>\n",
       "      <td>0</td>\n",
       "      <td>0</td>\n",
       "      <td>0</td>\n",
       "      <td>1</td>\n",
       "      <td>49010</td>\n",
       "      <td>2</td>\n",
       "      <td>81</td>\n",
       "      <td>33</td>\n",
       "      <td>82092.38688</td>\n",
       "      <td>NaN</td>\n",
       "    </tr>\n",
       "    <tr>\n",
       "      <th>4</th>\n",
       "      <td>Tier 3</td>\n",
       "      <td>Executive</td>\n",
       "      <td>Metro</td>\n",
       "      <td>0</td>\n",
       "      <td>0</td>\n",
       "      <td>0</td>\n",
       "      <td>1</td>\n",
       "      <td>57879</td>\n",
       "      <td>4</td>\n",
       "      <td>74</td>\n",
       "      <td>32</td>\n",
       "      <td>73878.09773</td>\n",
       "      <td>NaN</td>\n",
       "    </tr>\n",
       "  </tbody>\n",
       "</table>\n",
       "</div>"
      ],
      "text/plain": [
       "  College       Role  City type  College_T1  College_T2  Role_Manager  \\\n",
       "0  Tier 1    Manager  Non-Metro           1           0             1   \n",
       "1  Tier 2  Executive      Metro           0           1             0   \n",
       "2  Tier 2  Executive      Metro           0           1             0   \n",
       "3  Tier 3  Executive      Metro           0           0             0   \n",
       "4  Tier 3  Executive      Metro           0           0             0   \n",
       "\n",
       "   City_Metro  previous CTC  previous job changes  Graduation marks  Exp  \\\n",
       "0           0         55523                     3                66   19   \n",
       "1           1         57081                     1                84   18   \n",
       "2           1         60347                     2                52   28   \n",
       "3           1         49010                     2                81   33   \n",
       "4           1         57879                     4                74   32   \n",
       "\n",
       "    Actual CTC  Predicted CTC  \n",
       "0  71406.57653            NaN  \n",
       "1  68005.87063            NaN  \n",
       "2  76764.02028            NaN  \n",
       "3  82092.38688            NaN  \n",
       "4  73878.09773            NaN  "
      ]
     },
     "execution_count": 166,
     "metadata": {},
     "output_type": "execute_result"
    }
   ],
   "source": [
    "test.head()"
   ]
  },
  {
   "cell_type": "code",
   "execution_count": 167,
   "id": "8569e6cf",
   "metadata": {},
   "outputs": [],
   "source": [
    "y1 = test['Actual CTC']"
   ]
  },
  {
   "cell_type": "code",
   "execution_count": 168,
   "id": "03dcda2d",
   "metadata": {},
   "outputs": [],
   "source": [
    "test.drop(['College' , 'Role' , 'City type' , 'Predicted CTC' , 'Actual CTC'] , axis = 1, inplace = True)"
   ]
  },
  {
   "cell_type": "code",
   "execution_count": 169,
   "id": "6e3191cc",
   "metadata": {},
   "outputs": [
    {
     "data": {
      "text/plain": [
       "College_T1              int64\n",
       "College_T2              int64\n",
       "Role_Manager            int64\n",
       "City_Metro              int64\n",
       "previous CTC            int64\n",
       "previous job changes    int64\n",
       "Graduation marks        int64\n",
       "Exp                     int64\n",
       "dtype: object"
      ]
     },
     "execution_count": 169,
     "metadata": {},
     "output_type": "execute_result"
    }
   ],
   "source": [
    "test.dtypes"
   ]
  },
  {
   "cell_type": "code",
   "execution_count": 170,
   "id": "c5f6ba46",
   "metadata": {},
   "outputs": [],
   "source": [
    "test = test.astype(float)"
   ]
  },
  {
   "cell_type": "code",
   "execution_count": 171,
   "id": "cddf1ea3",
   "metadata": {},
   "outputs": [
    {
     "data": {
      "text/plain": [
       "College_T1              float64\n",
       "College_T2              float64\n",
       "Role_Manager            float64\n",
       "City_Metro              float64\n",
       "previous CTC            float64\n",
       "previous job changes    float64\n",
       "Graduation marks        float64\n",
       "Exp                     float64\n",
       "dtype: object"
      ]
     },
     "execution_count": 171,
     "metadata": {},
     "output_type": "execute_result"
    }
   ],
   "source": [
    "test.dtypes"
   ]
  },
  {
   "cell_type": "code",
   "execution_count": 172,
   "id": "f45aee4c",
   "metadata": {},
   "outputs": [
    {
     "data": {
      "text/html": [
       "<div>\n",
       "<style scoped>\n",
       "    .dataframe tbody tr th:only-of-type {\n",
       "        vertical-align: middle;\n",
       "    }\n",
       "\n",
       "    .dataframe tbody tr th {\n",
       "        vertical-align: top;\n",
       "    }\n",
       "\n",
       "    .dataframe thead th {\n",
       "        text-align: right;\n",
       "    }\n",
       "</style>\n",
       "<table border=\"1\" class=\"dataframe\">\n",
       "  <thead>\n",
       "    <tr style=\"text-align: right;\">\n",
       "      <th></th>\n",
       "      <th>College_T1</th>\n",
       "      <th>College_T2</th>\n",
       "      <th>Role_Manager</th>\n",
       "      <th>City_Metro</th>\n",
       "      <th>previous CTC</th>\n",
       "      <th>previous job changes</th>\n",
       "      <th>Graduation marks</th>\n",
       "      <th>Exp</th>\n",
       "    </tr>\n",
       "  </thead>\n",
       "  <tbody>\n",
       "    <tr>\n",
       "      <th>0</th>\n",
       "      <td>1.0</td>\n",
       "      <td>0.0</td>\n",
       "      <td>1.0</td>\n",
       "      <td>0.0</td>\n",
       "      <td>55523.0</td>\n",
       "      <td>3.0</td>\n",
       "      <td>66.0</td>\n",
       "      <td>19.0</td>\n",
       "    </tr>\n",
       "    <tr>\n",
       "      <th>1</th>\n",
       "      <td>0.0</td>\n",
       "      <td>1.0</td>\n",
       "      <td>0.0</td>\n",
       "      <td>1.0</td>\n",
       "      <td>57081.0</td>\n",
       "      <td>1.0</td>\n",
       "      <td>84.0</td>\n",
       "      <td>18.0</td>\n",
       "    </tr>\n",
       "    <tr>\n",
       "      <th>2</th>\n",
       "      <td>0.0</td>\n",
       "      <td>1.0</td>\n",
       "      <td>0.0</td>\n",
       "      <td>1.0</td>\n",
       "      <td>60347.0</td>\n",
       "      <td>2.0</td>\n",
       "      <td>52.0</td>\n",
       "      <td>28.0</td>\n",
       "    </tr>\n",
       "    <tr>\n",
       "      <th>3</th>\n",
       "      <td>0.0</td>\n",
       "      <td>0.0</td>\n",
       "      <td>0.0</td>\n",
       "      <td>1.0</td>\n",
       "      <td>49010.0</td>\n",
       "      <td>2.0</td>\n",
       "      <td>81.0</td>\n",
       "      <td>33.0</td>\n",
       "    </tr>\n",
       "    <tr>\n",
       "      <th>4</th>\n",
       "      <td>0.0</td>\n",
       "      <td>0.0</td>\n",
       "      <td>0.0</td>\n",
       "      <td>1.0</td>\n",
       "      <td>57879.0</td>\n",
       "      <td>4.0</td>\n",
       "      <td>74.0</td>\n",
       "      <td>32.0</td>\n",
       "    </tr>\n",
       "  </tbody>\n",
       "</table>\n",
       "</div>"
      ],
      "text/plain": [
       "   College_T1  College_T2  Role_Manager  City_Metro  previous CTC  \\\n",
       "0         1.0         0.0           1.0         0.0       55523.0   \n",
       "1         0.0         1.0           0.0         1.0       57081.0   \n",
       "2         0.0         1.0           0.0         1.0       60347.0   \n",
       "3         0.0         0.0           0.0         1.0       49010.0   \n",
       "4         0.0         0.0           0.0         1.0       57879.0   \n",
       "\n",
       "   previous job changes  Graduation marks   Exp  \n",
       "0                   3.0              66.0  19.0  \n",
       "1                   1.0              84.0  18.0  \n",
       "2                   2.0              52.0  28.0  \n",
       "3                   2.0              81.0  33.0  \n",
       "4                   4.0              74.0  32.0  "
      ]
     },
     "execution_count": 172,
     "metadata": {},
     "output_type": "execute_result"
    }
   ],
   "source": [
    "test.head()"
   ]
  },
  {
   "cell_type": "code",
   "execution_count": 173,
   "id": "7bd28f0d",
   "metadata": {},
   "outputs": [
    {
     "name": "stdout",
     "output_type": "stream",
     "text": [
      "Target on test data [86017.14522626 67039.47075481 70905.21919585 ... 65151.79406742\n",
      " 66666.10141943 89435.01131508]\n"
     ]
    }
   ],
   "source": [
    "predict_test = reg.predict(test)\n",
    "print('Target on test data', predict_test)"
   ]
  },
  {
   "cell_type": "code",
   "execution_count": 174,
   "id": "ea226f4d",
   "metadata": {},
   "outputs": [],
   "source": [
    "test1 = test"
   ]
  },
  {
   "cell_type": "code",
   "execution_count": 175,
   "id": "7c629c42",
   "metadata": {},
   "outputs": [
    {
     "data": {
      "text/html": [
       "<div>\n",
       "<style scoped>\n",
       "    .dataframe tbody tr th:only-of-type {\n",
       "        vertical-align: middle;\n",
       "    }\n",
       "\n",
       "    .dataframe tbody tr th {\n",
       "        vertical-align: top;\n",
       "    }\n",
       "\n",
       "    .dataframe thead th {\n",
       "        text-align: right;\n",
       "    }\n",
       "</style>\n",
       "<table border=\"1\" class=\"dataframe\">\n",
       "  <thead>\n",
       "    <tr style=\"text-align: right;\">\n",
       "      <th></th>\n",
       "      <th>College_T1</th>\n",
       "      <th>College_T2</th>\n",
       "      <th>Role_Manager</th>\n",
       "      <th>City_Metro</th>\n",
       "      <th>previous CTC</th>\n",
       "      <th>previous job changes</th>\n",
       "      <th>Graduation marks</th>\n",
       "      <th>Exp</th>\n",
       "    </tr>\n",
       "  </thead>\n",
       "  <tbody>\n",
       "    <tr>\n",
       "      <th>0</th>\n",
       "      <td>1.0</td>\n",
       "      <td>0.0</td>\n",
       "      <td>1.0</td>\n",
       "      <td>0.0</td>\n",
       "      <td>55523.0</td>\n",
       "      <td>3.0</td>\n",
       "      <td>66.0</td>\n",
       "      <td>19.0</td>\n",
       "    </tr>\n",
       "    <tr>\n",
       "      <th>1</th>\n",
       "      <td>0.0</td>\n",
       "      <td>1.0</td>\n",
       "      <td>0.0</td>\n",
       "      <td>1.0</td>\n",
       "      <td>57081.0</td>\n",
       "      <td>1.0</td>\n",
       "      <td>84.0</td>\n",
       "      <td>18.0</td>\n",
       "    </tr>\n",
       "    <tr>\n",
       "      <th>2</th>\n",
       "      <td>0.0</td>\n",
       "      <td>1.0</td>\n",
       "      <td>0.0</td>\n",
       "      <td>1.0</td>\n",
       "      <td>60347.0</td>\n",
       "      <td>2.0</td>\n",
       "      <td>52.0</td>\n",
       "      <td>28.0</td>\n",
       "    </tr>\n",
       "    <tr>\n",
       "      <th>3</th>\n",
       "      <td>0.0</td>\n",
       "      <td>0.0</td>\n",
       "      <td>0.0</td>\n",
       "      <td>1.0</td>\n",
       "      <td>49010.0</td>\n",
       "      <td>2.0</td>\n",
       "      <td>81.0</td>\n",
       "      <td>33.0</td>\n",
       "    </tr>\n",
       "    <tr>\n",
       "      <th>4</th>\n",
       "      <td>0.0</td>\n",
       "      <td>0.0</td>\n",
       "      <td>0.0</td>\n",
       "      <td>1.0</td>\n",
       "      <td>57879.0</td>\n",
       "      <td>4.0</td>\n",
       "      <td>74.0</td>\n",
       "      <td>32.0</td>\n",
       "    </tr>\n",
       "  </tbody>\n",
       "</table>\n",
       "</div>"
      ],
      "text/plain": [
       "   College_T1  College_T2  Role_Manager  City_Metro  previous CTC  \\\n",
       "0         1.0         0.0           1.0         0.0       55523.0   \n",
       "1         0.0         1.0           0.0         1.0       57081.0   \n",
       "2         0.0         1.0           0.0         1.0       60347.0   \n",
       "3         0.0         0.0           0.0         1.0       49010.0   \n",
       "4         0.0         0.0           0.0         1.0       57879.0   \n",
       "\n",
       "   previous job changes  Graduation marks   Exp  \n",
       "0                   3.0              66.0  19.0  \n",
       "1                   1.0              84.0  18.0  \n",
       "2                   2.0              52.0  28.0  \n",
       "3                   2.0              81.0  33.0  \n",
       "4                   4.0              74.0  32.0  "
      ]
     },
     "execution_count": 175,
     "metadata": {},
     "output_type": "execute_result"
    }
   ],
   "source": [
    "test1.head()"
   ]
  },
  {
   "cell_type": "code",
   "execution_count": 104,
   "id": "429f9cb6",
   "metadata": {},
   "outputs": [],
   "source": [
    "test['Predicted']=predict_test.tolist()"
   ]
  },
  {
   "cell_type": "code",
   "execution_count": 105,
   "id": "aa5b29c2",
   "metadata": {},
   "outputs": [
    {
     "data": {
      "text/plain": [
       "0       86017.145226\n",
       "1       67039.470755\n",
       "2       70905.219196\n",
       "3       66793.030601\n",
       "4       70452.864882\n",
       "            ...     \n",
       "1333    75543.522619\n",
       "1334    66332.825128\n",
       "1335    65151.794067\n",
       "1336    66666.101419\n",
       "1337    89435.011315\n",
       "Name: Predicted, Length: 1338, dtype: float64"
      ]
     },
     "execution_count": 105,
     "metadata": {},
     "output_type": "execute_result"
    }
   ],
   "source": [
    "test.Predicted"
   ]
  },
  {
   "cell_type": "code",
   "execution_count": 106,
   "id": "aba22945",
   "metadata": {},
   "outputs": [
    {
     "data": {
      "text/plain": [
       "0       71406.57653\n",
       "1       68005.87063\n",
       "2       76764.02028\n",
       "3       82092.38688\n",
       "4       73878.09773\n",
       "           ...     \n",
       "1333    69712.40366\n",
       "1334    69298.75010\n",
       "1335    66397.77069\n",
       "1336    64044.38295\n",
       "1337    83346.06096\n",
       "Name: Actual CTC, Length: 1338, dtype: float64"
      ]
     },
     "execution_count": 106,
     "metadata": {},
     "output_type": "execute_result"
    }
   ],
   "source": [
    "y1"
   ]
  },
  {
   "cell_type": "code",
   "execution_count": 107,
   "id": "b938f47d",
   "metadata": {},
   "outputs": [
    {
     "name": "stdout",
     "output_type": "stream",
     "text": [
      "R2 score :  0.606556073591544\n"
     ]
    }
   ],
   "source": [
    "from sklearn import metrics\n",
    "error_score = metrics.r2_score(y1, test.Predicted)\n",
    "print(\"R2 score : \", error_score)"
   ]
  },
  {
   "cell_type": "code",
   "execution_count": 108,
   "id": "07e01111",
   "metadata": {},
   "outputs": [
    {
     "data": {
      "text/plain": [
       "0       86017.145226\n",
       "1       67039.470755\n",
       "2       70905.219196\n",
       "3       66793.030601\n",
       "4       70452.864882\n",
       "            ...     \n",
       "1333    75543.522619\n",
       "1334    66332.825128\n",
       "1335    65151.794067\n",
       "1336    66666.101419\n",
       "1337    89435.011315\n",
       "Name: Predicted, Length: 1338, dtype: float64"
      ]
     },
     "execution_count": 108,
     "metadata": {},
     "output_type": "execute_result"
    }
   ],
   "source": [
    "test.Predicted"
   ]
  },
  {
   "cell_type": "code",
   "execution_count": 123,
   "id": "52e48c47",
   "metadata": {},
   "outputs": [
    {
     "name": "stdout",
     "output_type": "stream",
     "text": [
      "61934722.170763135\n"
     ]
    }
   ],
   "source": [
    "# mean squared error on test data\n",
    "error_score = metrics.mean_squared_error(y1, test.Predicted)\n",
    "print(error_score)"
   ]
  },
  {
   "cell_type": "code",
   "execution_count": 124,
   "id": "053f77bb",
   "metadata": {},
   "outputs": [
    {
     "data": {
      "text/plain": [
       "7869.86163606217"
      ]
     },
     "execution_count": 124,
     "metadata": {},
     "output_type": "execute_result"
    }
   ],
   "source": [
    "# root mean squared error\n",
    "np.sqrt(error_score)"
   ]
  },
  {
   "cell_type": "markdown",
   "id": "e6f5d809",
   "metadata": {},
   "source": [
    "## Random Forest Regressor"
   ]
  },
  {
   "cell_type": "code",
   "execution_count": 176,
   "id": "c9889c1f",
   "metadata": {},
   "outputs": [],
   "source": [
    "# using Random Forest Regressor\n",
    "from sklearn.ensemble import RandomForestRegressor"
   ]
  },
  {
   "cell_type": "code",
   "execution_count": 177,
   "id": "861fe732",
   "metadata": {},
   "outputs": [],
   "source": [
    "regressor = RandomForestRegressor(n_estimators=100)"
   ]
  },
  {
   "cell_type": "code",
   "execution_count": 178,
   "id": "dcab9203",
   "metadata": {},
   "outputs": [
    {
     "data": {
      "text/plain": [
       "RandomForestRegressor()"
      ]
     },
     "execution_count": 178,
     "metadata": {},
     "output_type": "execute_result"
    }
   ],
   "source": [
    "regressor.fit(train_X, train_y)"
   ]
  },
  {
   "cell_type": "code",
   "execution_count": 179,
   "id": "6a7b6bde",
   "metadata": {},
   "outputs": [],
   "source": [
    "test_data_prediction = regressor.predict(test_X)"
   ]
  },
  {
   "cell_type": "code",
   "execution_count": 180,
   "id": "0204a815",
   "metadata": {},
   "outputs": [
    {
     "data": {
      "text/plain": [
       "array([ 71431.1521,  77046.7994,  85378.8489,  66679.6268,  72316.8603,\n",
       "        68271.6446,  66694.481 ,  69094.9419,  73042.3968,  68037.7882,\n",
       "        72074.5304,  61966.0494,  76039.9676,  65276.1878,  77516.7108,\n",
       "        70356.1927,  71869.0082,  64169.2757,  73923.0415,  72503.3442,\n",
       "        73099.4945,  72244.9224,  96992.0884,  84168.137 ,  98385.8609,\n",
       "        81915.1319,  62522.3737,  71683.411 ,  75220.4646,  60290.711 ,\n",
       "        66049.3128,  64532.3198,  66376.6428,  66409.2583,  73530.1534,\n",
       "        63145.8077,  96221.022 ,  75345.3473,  77272.5344,  73351.9565,\n",
       "        62407.0863,  89455.7928,  73856.3457,  69146.1548,  69865.0783,\n",
       "        73315.5796,  72422.1144,  71830.0532,  71941.443 ,  79260.5724,\n",
       "        75153.4265,  72970.5429,  89507.8237,  93661.7774,  71032.1311,\n",
       "        76745.5953,  74180.3764,  72168.1393,  66421.8214,  96433.2772,\n",
       "        78916.3292,  72366.9223,  64991.867 ,  96745.8103,  71907.6625,\n",
       "        80207.5332,  83087.9984,  62926.4427,  74996.4111,  69393.0846,\n",
       "        83086.6538,  74876.6857,  71808.754 ,  72050.468 ,  82518.2976,\n",
       "        77125.3656,  66322.8289,  62290.5982,  64427.1641,  72818.8753,\n",
       "        76477.4704,  79247.6541,  67660.4272,  75527.7447,  74394.2077,\n",
       "        62966.942 , 108268.0812,  72646.477 ,  80867.8975,  70255.346 ,\n",
       "        76786.4933,  83039.9256,  72559.253 ,  74388.4612,  75304.6581,\n",
       "        83942.7415,  64094.4296,  68243.3902,  65409.3326,  76579.9675,\n",
       "        70300.3034,  61905.878 ,  64015.7156,  84524.2187,  67786.7281,\n",
       "        86229.9294,  72878.8261,  69515.3778,  80444.9609,  83955.2091,\n",
       "        63647.8869,  77501.9412,  78004.7812,  77259.7253,  67960.2421,\n",
       "        74181.9875,  73728.7327,  66345.3624,  76830.779 ,  99755.9586,\n",
       "        74350.0133,  69940.4066,  71185.2145,  79388.622 ,  67405.3362,\n",
       "        75525.6476,  82322.1311,  76951.9562,  67770.3965,  68677.9955,\n",
       "        68271.3581,  68808.632 ,  73898.7286,  66035.5482,  63631.5644,\n",
       "        74639.0714,  68846.9881, 101563.5021, 103834.9706,  65705.1548,\n",
       "        99246.7652,  63898.1533,  64517.1189,  74187.7576,  74423.1398,\n",
       "        95799.7524,  72456.3743,  69271.9962,  69028.7326,  69964.2776,\n",
       "        67234.8857,  64261.1491,  61986.9016,  80081.4412,  75838.7573,\n",
       "        74146.3208,  71351.8776,  85144.5471,  59366.0809,  76729.0992,\n",
       "        78566.5925,  74369.0973,  74539.3287,  71358.1656,  63159.8194,\n",
       "        66432.3875,  87410.9197,  77798.1805,  78212.3106,  61162.5144,\n",
       "       104956.3021,  76080.3393,  97359.3283,  81812.7454,  76250.9649,\n",
       "        75141.1827,  73190.6897,  67088.5438,  77889.9701,  72691.7958,\n",
       "        64777.9115,  66940.2566,  74954.617 ,  66146.2722,  67190.8729,\n",
       "        85376.6792,  77838.2028,  65167.229 ,  62709.806 , 101979.3207,\n",
       "        71685.0894,  63043.8492,  67144.3513,  71865.5785,  73231.5661,\n",
       "       107495.867 , 103957.4165,  79410.1533,  74988.4942,  81765.2956,\n",
       "       105485.4839,  70926.6601,  66678.4851,  63958.6765,  76691.4327,\n",
       "        73922.3493,  73505.542 , 108876.605 ,  83702.0018,  69905.9207,\n",
       "        70990.0456,  87308.5491,  67526.3761,  66866.2504,  76543.742 ,\n",
       "        78657.2706,  88011.5611,  70391.4009,  62858.8703,  70783.023 ,\n",
       "       108163.3453,  72143.4416, 103889.2928,  78697.8832,  75182.6816,\n",
       "        75279.4392,  78703.929 ,  72167.8909,  69491.2628,  63504.8942,\n",
       "        76302.6038,  74005.7574,  70398.5635,  66763.2278,  77496.5956,\n",
       "       102706.6418,  78448.4161,  73564.7841,  75195.0217,  63239.9763,\n",
       "        73446.8486,  72077.5803,  75826.3829,  71751.1389,  92946.7813,\n",
       "        81633.282 ,  68509.2096,  73098.8344,  71197.0807,  69635.4832,\n",
       "        74196.0851,  70048.927 ,  69288.7393,  80346.4286,  79523.2858,\n",
       "        68205.3439,  76215.7979,  66782.334 ,  74518.3818,  73069.1597,\n",
       "        99953.0646,  94252.2059, 103547.1919,  65495.0631,  79610.2349,\n",
       "        86418.727 ,  70902.7218,  80585.2847,  64090.8944,  68182.5675,\n",
       "        75864.7822,  66907.3211,  67049.1997, 104893.2207,  71987.7506,\n",
       "        77338.7357,  65814.23  , 101084.3913,  75455.8423,  98085.0818,\n",
       "        64886.6837,  65203.8304,  66026.9759,  65304.5125, 106338.256 ,\n",
       "        92365.6319,  81917.1641,  68323.3366,  71314.6681,  82809.3741,\n",
       "        68932.6316,  64667.3424,  83536.1452,  78238.6082,  66499.8678,\n",
       "        59158.9157,  67285.3314,  67075.4854,  71847.9898,  76410.9583,\n",
       "        66228.3653,  76884.2566,  81168.6111,  65824.7982,  69756.6229,\n",
       "        68600.4611,  77402.6098,  73655.9786, 106717.4776,  66119.7979,\n",
       "        79568.1898,  72323.4168,  70157.902 ,  63919.6895,  70982.4628,\n",
       "        74434.1083,  68768.6486,  81670.6121,  74182.7717,  73174.5523,\n",
       "        69274.6791,  89733.6837,  72645.0883,  62169.7054,  65923.6483,\n",
       "        72384.6643,  74415.8465,  73324.9688,  70656.7623,  63849.1287,\n",
       "        79145.2711,  92302.0836,  64807.0825,  77650.9017,  74480.8161,\n",
       "        66608.4029,  97052.1428,  94133.9166,  80293.648 ,  68986.988 ,\n",
       "        77718.8   ,  82021.9979,  67560.5677,  73789.0979,  96042.8983,\n",
       "        83262.6531,  64886.6841, 101454.2885,  75031.7377,  73222.9174,\n",
       "        66754.4481,  65790.9288,  63596.8358,  72231.6672,  65292.9608,\n",
       "        75818.2611,  73639.7615,  65060.1965,  96327.3569,  72106.0202,\n",
       "        81169.8449,  74550.8905,  68344.1035,  69689.3671, 108695.4387,\n",
       "        75154.7245,  87150.5564,  80145.3219,  59488.829 , 101749.1853,\n",
       "        77615.1245,  78168.1736,  71086.2428,  69727.209 , 106770.5046,\n",
       "        72442.2582,  66660.9346, 108733.184 ,  65195.7778,  81727.9342,\n",
       "        72476.5536,  90185.2421,  69466.9067,  80699.8625,  78667.9013,\n",
       "        67361.0931, 102796.8526,  78582.1097,  68101.4004,  74519.2867,\n",
       "        75077.5222,  76578.7639,  67894.7824, 107698.5119,  66009.9619,\n",
       "        75164.6127,  77175.645 ,  65569.9505,  71178.4742, 107164.2735,\n",
       "        93546.6937,  65536.1669])"
      ]
     },
     "execution_count": 180,
     "metadata": {},
     "output_type": "execute_result"
    }
   ],
   "source": [
    "test_data_prediction"
   ]
  },
  {
   "cell_type": "code",
   "execution_count": 181,
   "id": "c4929fcc",
   "metadata": {},
   "outputs": [
    {
     "name": "stdout",
     "output_type": "stream",
     "text": [
      "R2 :  0.6683803584207583\n"
     ]
    }
   ],
   "source": [
    "error_score = metrics.r2_score(test_y, test_data_prediction)\n",
    "print(\"R2 : \", error_score)"
   ]
  },
  {
   "cell_type": "code",
   "execution_count": 182,
   "id": "3ba2ed7d",
   "metadata": {},
   "outputs": [
    {
     "name": "stdout",
     "output_type": "stream",
     "text": [
      "Target on test data [92302.0836 65262.8576 63504.8942 ... 63673.8028 69146.1548 86418.727 ]\n"
     ]
    }
   ],
   "source": [
    "predict_test = regressor.predict(test1)\n",
    "print('Target on test data', predict_test)"
   ]
  },
  {
   "cell_type": "code",
   "execution_count": 183,
   "id": "f77d334e",
   "metadata": {},
   "outputs": [],
   "source": [
    "test1['Predicted1']=predict_test.tolist()"
   ]
  },
  {
   "cell_type": "code",
   "execution_count": 184,
   "id": "c68aa1aa",
   "metadata": {},
   "outputs": [
    {
     "data": {
      "text/plain": [
       "0       92302.0836\n",
       "1       65262.8576\n",
       "2       63504.8942\n",
       "3       75021.2365\n",
       "4       70842.0334\n",
       "           ...    \n",
       "1333    69591.6333\n",
       "1334    69017.0207\n",
       "1335    63673.8028\n",
       "1336    69146.1548\n",
       "1337    86418.7270\n",
       "Name: Predicted1, Length: 1338, dtype: float64"
      ]
     },
     "execution_count": 184,
     "metadata": {},
     "output_type": "execute_result"
    }
   ],
   "source": [
    "test1.Predicted1"
   ]
  },
  {
   "cell_type": "code",
   "execution_count": 185,
   "id": "98dd6ef0",
   "metadata": {},
   "outputs": [
    {
     "name": "stdout",
     "output_type": "stream",
     "text": [
      "23256311.21483684\n"
     ]
    }
   ],
   "source": [
    "error_score = metrics.mean_squared_error(y1, test.Predicted1)\n",
    "print(error_score)"
   ]
  },
  {
   "cell_type": "code",
   "execution_count": 186,
   "id": "62945213",
   "metadata": {},
   "outputs": [
    {
     "data": {
      "text/plain": [
       "4822.479778582471"
      ]
     },
     "execution_count": 186,
     "metadata": {},
     "output_type": "execute_result"
    }
   ],
   "source": [
    "np.sqrt(error_score)"
   ]
  },
  {
   "cell_type": "code",
   "execution_count": 187,
   "id": "b7e085ab",
   "metadata": {},
   "outputs": [
    {
     "name": "stdout",
     "output_type": "stream",
     "text": [
      "0.8522629297841303\n"
     ]
    }
   ],
   "source": [
    "r2_score = metrics.r2_score(y1, test.Predicted1)\n",
    "print(r2_score)"
   ]
  },
  {
   "cell_type": "code",
   "execution_count": 189,
   "id": "44aec23e",
   "metadata": {},
   "outputs": [],
   "source": [
    "Adj_r2 = 1-(1-r2_score)*(1338-1)/(1338-8-1)"
   ]
  },
  {
   "cell_type": "code",
   "execution_count": 190,
   "id": "2b339e20",
   "metadata": {},
   "outputs": [
    {
     "data": {
      "text/plain": [
       "0.8513736170966006"
      ]
     },
     "execution_count": 190,
     "metadata": {},
     "output_type": "execute_result"
    }
   ],
   "source": [
    "Adj_r2"
   ]
  }
 ],
 "metadata": {
  "kernelspec": {
   "display_name": "Python 3 (ipykernel)",
   "language": "python",
   "name": "python3"
  },
  "language_info": {
   "codemirror_mode": {
    "name": "ipython",
    "version": 3
   },
   "file_extension": ".py",
   "mimetype": "text/x-python",
   "name": "python",
   "nbconvert_exporter": "python",
   "pygments_lexer": "ipython3",
   "version": "3.9.7"
  }
 },
 "nbformat": 4,
 "nbformat_minor": 5
}
