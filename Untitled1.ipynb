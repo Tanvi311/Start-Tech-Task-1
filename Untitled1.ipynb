{
 "cells": [
  {
   "cell_type": "code",
   "execution_count": 473,
   "id": "28835336",
   "metadata": {},
   "outputs": [],
   "source": [
    "import pandas as pd\n",
    "import numpy as np"
   ]
  },
  {
   "cell_type": "code",
   "execution_count": 420,
   "id": "43abc4fc",
   "metadata": {},
   "outputs": [],
   "source": [
    "Hires = pd.read_csv('Hires.csv')"
   ]
  },
  {
   "cell_type": "code",
   "execution_count": 421,
   "id": "95064bb7",
   "metadata": {},
   "outputs": [
    {
     "data": {
      "text/html": [
       "<div>\n",
       "<style scoped>\n",
       "    .dataframe tbody tr th:only-of-type {\n",
       "        vertical-align: middle;\n",
       "    }\n",
       "\n",
       "    .dataframe tbody tr th {\n",
       "        vertical-align: top;\n",
       "    }\n",
       "\n",
       "    .dataframe thead th {\n",
       "        text-align: right;\n",
       "    }\n",
       "</style>\n",
       "<table border=\"1\" class=\"dataframe\">\n",
       "  <thead>\n",
       "    <tr style=\"text-align: right;\">\n",
       "      <th></th>\n",
       "      <th>S.No.</th>\n",
       "      <th>College</th>\n",
       "      <th>Role</th>\n",
       "      <th>City type</th>\n",
       "      <th>Previous CTC</th>\n",
       "      <th>Previous job changes</th>\n",
       "      <th>Graduation marks</th>\n",
       "      <th>Exp (Months)</th>\n",
       "      <th>CTC</th>\n",
       "    </tr>\n",
       "  </thead>\n",
       "  <tbody>\n",
       "    <tr>\n",
       "      <th>0</th>\n",
       "      <td>1</td>\n",
       "      <td>Tier 1</td>\n",
       "      <td>Manager</td>\n",
       "      <td>Non-Metro</td>\n",
       "      <td>55523</td>\n",
       "      <td>3</td>\n",
       "      <td>66</td>\n",
       "      <td>19</td>\n",
       "      <td>71406.58</td>\n",
       "    </tr>\n",
       "    <tr>\n",
       "      <th>1</th>\n",
       "      <td>2</td>\n",
       "      <td>Tier 2</td>\n",
       "      <td>Executive</td>\n",
       "      <td>Metro</td>\n",
       "      <td>57081</td>\n",
       "      <td>1</td>\n",
       "      <td>84</td>\n",
       "      <td>18</td>\n",
       "      <td>68005.87</td>\n",
       "    </tr>\n",
       "    <tr>\n",
       "      <th>2</th>\n",
       "      <td>3</td>\n",
       "      <td>Tier 2</td>\n",
       "      <td>Executive</td>\n",
       "      <td>Metro</td>\n",
       "      <td>60347</td>\n",
       "      <td>2</td>\n",
       "      <td>52</td>\n",
       "      <td>28</td>\n",
       "      <td>76764.02</td>\n",
       "    </tr>\n",
       "    <tr>\n",
       "      <th>3</th>\n",
       "      <td>4</td>\n",
       "      <td>Tier 3</td>\n",
       "      <td>Executive</td>\n",
       "      <td>Metro</td>\n",
       "      <td>49010</td>\n",
       "      <td>2</td>\n",
       "      <td>81</td>\n",
       "      <td>33</td>\n",
       "      <td>82092.39</td>\n",
       "    </tr>\n",
       "    <tr>\n",
       "      <th>4</th>\n",
       "      <td>5</td>\n",
       "      <td>Tier 3</td>\n",
       "      <td>Executive</td>\n",
       "      <td>Metro</td>\n",
       "      <td>57879</td>\n",
       "      <td>4</td>\n",
       "      <td>74</td>\n",
       "      <td>32</td>\n",
       "      <td>73878.10</td>\n",
       "    </tr>\n",
       "  </tbody>\n",
       "</table>\n",
       "</div>"
      ],
      "text/plain": [
       "   S.No. College       Role  City type  Previous CTC  Previous job changes  \\\n",
       "0      1  Tier 1    Manager  Non-Metro         55523                     3   \n",
       "1      2  Tier 2  Executive      Metro         57081                     1   \n",
       "2      3  Tier 2  Executive      Metro         60347                     2   \n",
       "3      4  Tier 3  Executive      Metro         49010                     2   \n",
       "4      5  Tier 3  Executive      Metro         57879                     4   \n",
       "\n",
       "   Graduation marks  Exp (Months)       CTC  \n",
       "0                66            19  71406.58  \n",
       "1                84            18  68005.87  \n",
       "2                52            28  76764.02  \n",
       "3                81            33  82092.39  \n",
       "4                74            32  73878.10  "
      ]
     },
     "execution_count": 421,
     "metadata": {},
     "output_type": "execute_result"
    }
   ],
   "source": [
    "Hires.head()"
   ]
  },
  {
   "cell_type": "code",
   "execution_count": 422,
   "id": "242d5760",
   "metadata": {},
   "outputs": [
    {
     "data": {
      "text/plain": [
       "(1338, 9)"
      ]
     },
     "execution_count": 422,
     "metadata": {},
     "output_type": "execute_result"
    }
   ],
   "source": [
    "Hires.shape"
   ]
  },
  {
   "cell_type": "code",
   "execution_count": 423,
   "id": "1577edc9",
   "metadata": {},
   "outputs": [
    {
     "data": {
      "text/plain": [
       "Tier 1    649\n",
       "Tier 2    364\n",
       "Tier 3    325\n",
       "Name: College, dtype: int64"
      ]
     },
     "execution_count": 423,
     "metadata": {},
     "output_type": "execute_result"
    }
   ],
   "source": [
    "Hires.College.value_counts()"
   ]
  },
  {
   "cell_type": "code",
   "execution_count": 424,
   "id": "2e82135a",
   "metadata": {},
   "outputs": [
    {
     "data": {
      "text/plain": [
       "Executive    1064\n",
       "Manager       274\n",
       "Name: Role, dtype: int64"
      ]
     },
     "execution_count": 424,
     "metadata": {},
     "output_type": "execute_result"
    }
   ],
   "source": [
    "Hires.Role.value_counts()"
   ]
  },
  {
   "cell_type": "code",
   "execution_count": 425,
   "id": "db4045e6",
   "metadata": {},
   "outputs": [
    {
     "data": {
      "text/plain": [
       "Metro        676\n",
       "Non-Metro    662\n",
       "Name: City type, dtype: int64"
      ]
     },
     "execution_count": 425,
     "metadata": {},
     "output_type": "execute_result"
    }
   ],
   "source": [
    "Hires['City type'].value_counts()"
   ]
  },
  {
   "cell_type": "code",
   "execution_count": 426,
   "id": "9910dbd1",
   "metadata": {},
   "outputs": [
    {
     "data": {
      "text/html": [
       "<div>\n",
       "<style scoped>\n",
       "    .dataframe tbody tr th:only-of-type {\n",
       "        vertical-align: middle;\n",
       "    }\n",
       "\n",
       "    .dataframe tbody tr th {\n",
       "        vertical-align: top;\n",
       "    }\n",
       "\n",
       "    .dataframe thead th {\n",
       "        text-align: right;\n",
       "    }\n",
       "</style>\n",
       "<table border=\"1\" class=\"dataframe\">\n",
       "  <thead>\n",
       "    <tr style=\"text-align: right;\">\n",
       "      <th></th>\n",
       "      <th>S.No.</th>\n",
       "      <th>Previous CTC</th>\n",
       "      <th>Previous job changes</th>\n",
       "      <th>Graduation marks</th>\n",
       "      <th>Exp (Months)</th>\n",
       "      <th>CTC</th>\n",
       "    </tr>\n",
       "  </thead>\n",
       "  <tbody>\n",
       "    <tr>\n",
       "      <th>count</th>\n",
       "      <td>1338.000000</td>\n",
       "      <td>1338.000000</td>\n",
       "      <td>1338.000000</td>\n",
       "      <td>1338.000000</td>\n",
       "      <td>1338.000000</td>\n",
       "      <td>1338.000000</td>\n",
       "    </tr>\n",
       "    <tr>\n",
       "      <th>mean</th>\n",
       "      <td>669.500000</td>\n",
       "      <td>55581.762332</td>\n",
       "      <td>2.525411</td>\n",
       "      <td>59.890882</td>\n",
       "      <td>39.207025</td>\n",
       "      <td>75459.339036</td>\n",
       "    </tr>\n",
       "    <tr>\n",
       "      <th>std</th>\n",
       "      <td>386.391641</td>\n",
       "      <td>6685.600553</td>\n",
       "      <td>1.123502</td>\n",
       "      <td>14.894696</td>\n",
       "      <td>14.049960</td>\n",
       "      <td>12551.280147</td>\n",
       "    </tr>\n",
       "    <tr>\n",
       "      <th>min</th>\n",
       "      <td>1.000000</td>\n",
       "      <td>36990.000000</td>\n",
       "      <td>1.000000</td>\n",
       "      <td>35.000000</td>\n",
       "      <td>18.000000</td>\n",
       "      <td>53020.320000</td>\n",
       "    </tr>\n",
       "    <tr>\n",
       "      <th>25%</th>\n",
       "      <td>335.250000</td>\n",
       "      <td>50547.000000</td>\n",
       "      <td>2.000000</td>\n",
       "      <td>47.000000</td>\n",
       "      <td>27.000000</td>\n",
       "      <td>66905.067500</td>\n",
       "    </tr>\n",
       "    <tr>\n",
       "      <th>50%</th>\n",
       "      <td>669.500000</td>\n",
       "      <td>55293.500000</td>\n",
       "      <td>3.000000</td>\n",
       "      <td>60.000000</td>\n",
       "      <td>39.000000</td>\n",
       "      <td>73112.640000</td>\n",
       "    </tr>\n",
       "    <tr>\n",
       "      <th>75%</th>\n",
       "      <td>1003.750000</td>\n",
       "      <td>60150.500000</td>\n",
       "      <td>4.000000</td>\n",
       "      <td>73.000000</td>\n",
       "      <td>51.000000</td>\n",
       "      <td>80747.175000</td>\n",
       "    </tr>\n",
       "    <tr>\n",
       "      <th>max</th>\n",
       "      <td>1338.000000</td>\n",
       "      <td>77911.000000</td>\n",
       "      <td>4.000000</td>\n",
       "      <td>85.000000</td>\n",
       "      <td>64.000000</td>\n",
       "      <td>123416.990000</td>\n",
       "    </tr>\n",
       "  </tbody>\n",
       "</table>\n",
       "</div>"
      ],
      "text/plain": [
       "             S.No.  Previous CTC  Previous job changes  Graduation marks  \\\n",
       "count  1338.000000   1338.000000           1338.000000       1338.000000   \n",
       "mean    669.500000  55581.762332              2.525411         59.890882   \n",
       "std     386.391641   6685.600553              1.123502         14.894696   \n",
       "min       1.000000  36990.000000              1.000000         35.000000   \n",
       "25%     335.250000  50547.000000              2.000000         47.000000   \n",
       "50%     669.500000  55293.500000              3.000000         60.000000   \n",
       "75%    1003.750000  60150.500000              4.000000         73.000000   \n",
       "max    1338.000000  77911.000000              4.000000         85.000000   \n",
       "\n",
       "       Exp (Months)            CTC  \n",
       "count   1338.000000    1338.000000  \n",
       "mean      39.207025   75459.339036  \n",
       "std       14.049960   12551.280147  \n",
       "min       18.000000   53020.320000  \n",
       "25%       27.000000   66905.067500  \n",
       "50%       39.000000   73112.640000  \n",
       "75%       51.000000   80747.175000  \n",
       "max       64.000000  123416.990000  "
      ]
     },
     "execution_count": 426,
     "metadata": {},
     "output_type": "execute_result"
    }
   ],
   "source": [
    "Hires.describe()"
   ]
  },
  {
   "cell_type": "code",
   "execution_count": 427,
   "id": "e607e2ef",
   "metadata": {},
   "outputs": [],
   "source": [
    "Hires = Hires.drop(['S.No.'] , axis = 1)"
   ]
  },
  {
   "cell_type": "code",
   "execution_count": 428,
   "id": "1ce00e14",
   "metadata": {},
   "outputs": [
    {
     "data": {
      "text/html": [
       "<div>\n",
       "<style scoped>\n",
       "    .dataframe tbody tr th:only-of-type {\n",
       "        vertical-align: middle;\n",
       "    }\n",
       "\n",
       "    .dataframe tbody tr th {\n",
       "        vertical-align: top;\n",
       "    }\n",
       "\n",
       "    .dataframe thead th {\n",
       "        text-align: right;\n",
       "    }\n",
       "</style>\n",
       "<table border=\"1\" class=\"dataframe\">\n",
       "  <thead>\n",
       "    <tr style=\"text-align: right;\">\n",
       "      <th></th>\n",
       "      <th>College</th>\n",
       "      <th>Role</th>\n",
       "      <th>City type</th>\n",
       "      <th>Previous CTC</th>\n",
       "      <th>Previous job changes</th>\n",
       "      <th>Graduation marks</th>\n",
       "      <th>Exp (Months)</th>\n",
       "      <th>CTC</th>\n",
       "    </tr>\n",
       "  </thead>\n",
       "  <tbody>\n",
       "    <tr>\n",
       "      <th>0</th>\n",
       "      <td>Tier 1</td>\n",
       "      <td>Manager</td>\n",
       "      <td>Non-Metro</td>\n",
       "      <td>55523</td>\n",
       "      <td>3</td>\n",
       "      <td>66</td>\n",
       "      <td>19</td>\n",
       "      <td>71406.58</td>\n",
       "    </tr>\n",
       "    <tr>\n",
       "      <th>1</th>\n",
       "      <td>Tier 2</td>\n",
       "      <td>Executive</td>\n",
       "      <td>Metro</td>\n",
       "      <td>57081</td>\n",
       "      <td>1</td>\n",
       "      <td>84</td>\n",
       "      <td>18</td>\n",
       "      <td>68005.87</td>\n",
       "    </tr>\n",
       "    <tr>\n",
       "      <th>2</th>\n",
       "      <td>Tier 2</td>\n",
       "      <td>Executive</td>\n",
       "      <td>Metro</td>\n",
       "      <td>60347</td>\n",
       "      <td>2</td>\n",
       "      <td>52</td>\n",
       "      <td>28</td>\n",
       "      <td>76764.02</td>\n",
       "    </tr>\n",
       "    <tr>\n",
       "      <th>3</th>\n",
       "      <td>Tier 3</td>\n",
       "      <td>Executive</td>\n",
       "      <td>Metro</td>\n",
       "      <td>49010</td>\n",
       "      <td>2</td>\n",
       "      <td>81</td>\n",
       "      <td>33</td>\n",
       "      <td>82092.39</td>\n",
       "    </tr>\n",
       "    <tr>\n",
       "      <th>4</th>\n",
       "      <td>Tier 3</td>\n",
       "      <td>Executive</td>\n",
       "      <td>Metro</td>\n",
       "      <td>57879</td>\n",
       "      <td>4</td>\n",
       "      <td>74</td>\n",
       "      <td>32</td>\n",
       "      <td>73878.10</td>\n",
       "    </tr>\n",
       "    <tr>\n",
       "      <th>...</th>\n",
       "      <td>...</td>\n",
       "      <td>...</td>\n",
       "      <td>...</td>\n",
       "      <td>...</td>\n",
       "      <td>...</td>\n",
       "      <td>...</td>\n",
       "      <td>...</td>\n",
       "      <td>...</td>\n",
       "    </tr>\n",
       "    <tr>\n",
       "      <th>1333</th>\n",
       "      <td>Tier 3</td>\n",
       "      <td>Executive</td>\n",
       "      <td>Metro</td>\n",
       "      <td>59661</td>\n",
       "      <td>4</td>\n",
       "      <td>68</td>\n",
       "      <td>50</td>\n",
       "      <td>69712.40</td>\n",
       "    </tr>\n",
       "    <tr>\n",
       "      <th>1334</th>\n",
       "      <td>Tier 1</td>\n",
       "      <td>Executive</td>\n",
       "      <td>Non-Metro</td>\n",
       "      <td>53714</td>\n",
       "      <td>1</td>\n",
       "      <td>67</td>\n",
       "      <td>18</td>\n",
       "      <td>69298.75</td>\n",
       "    </tr>\n",
       "    <tr>\n",
       "      <th>1335</th>\n",
       "      <td>Tier 2</td>\n",
       "      <td>Executive</td>\n",
       "      <td>Non-Metro</td>\n",
       "      <td>61957</td>\n",
       "      <td>1</td>\n",
       "      <td>47</td>\n",
       "      <td>18</td>\n",
       "      <td>66397.77</td>\n",
       "    </tr>\n",
       "    <tr>\n",
       "      <th>1336</th>\n",
       "      <td>Tier 1</td>\n",
       "      <td>Executive</td>\n",
       "      <td>Non-Metro</td>\n",
       "      <td>53203</td>\n",
       "      <td>3</td>\n",
       "      <td>69</td>\n",
       "      <td>21</td>\n",
       "      <td>64044.38</td>\n",
       "    </tr>\n",
       "    <tr>\n",
       "      <th>1337</th>\n",
       "      <td>Tier 3</td>\n",
       "      <td>Manager</td>\n",
       "      <td>Non-Metro</td>\n",
       "      <td>51820</td>\n",
       "      <td>1</td>\n",
       "      <td>47</td>\n",
       "      <td>61</td>\n",
       "      <td>83346.06</td>\n",
       "    </tr>\n",
       "  </tbody>\n",
       "</table>\n",
       "<p>1338 rows × 8 columns</p>\n",
       "</div>"
      ],
      "text/plain": [
       "     College       Role  City type  Previous CTC  Previous job changes  \\\n",
       "0     Tier 1    Manager  Non-Metro         55523                     3   \n",
       "1     Tier 2  Executive      Metro         57081                     1   \n",
       "2     Tier 2  Executive      Metro         60347                     2   \n",
       "3     Tier 3  Executive      Metro         49010                     2   \n",
       "4     Tier 3  Executive      Metro         57879                     4   \n",
       "...      ...        ...        ...           ...                   ...   \n",
       "1333  Tier 3  Executive      Metro         59661                     4   \n",
       "1334  Tier 1  Executive  Non-Metro         53714                     1   \n",
       "1335  Tier 2  Executive  Non-Metro         61957                     1   \n",
       "1336  Tier 1  Executive  Non-Metro         53203                     3   \n",
       "1337  Tier 3    Manager  Non-Metro         51820                     1   \n",
       "\n",
       "      Graduation marks  Exp (Months)       CTC  \n",
       "0                   66            19  71406.58  \n",
       "1                   84            18  68005.87  \n",
       "2                   52            28  76764.02  \n",
       "3                   81            33  82092.39  \n",
       "4                   74            32  73878.10  \n",
       "...                ...           ...       ...  \n",
       "1333                68            50  69712.40  \n",
       "1334                67            18  69298.75  \n",
       "1335                47            18  66397.77  \n",
       "1336                69            21  64044.38  \n",
       "1337                47            61  83346.06  \n",
       "\n",
       "[1338 rows x 8 columns]"
      ]
     },
     "execution_count": 428,
     "metadata": {},
     "output_type": "execute_result"
    }
   ],
   "source": [
    "Hires"
   ]
  },
  {
   "cell_type": "code",
   "execution_count": 429,
   "id": "f0cbf34b",
   "metadata": {},
   "outputs": [],
   "source": [
    "CollegeD = pd.get_dummies(Hires.College , prefix = 'colleges').iloc[:, :2]\n",
    "RoleD = pd.get_dummies(Hires.Role , prefix = 'roles').iloc[:, 1:]\n",
    "CityT = pd.get_dummies(Hires['City type'] , prefix = 'citytype').iloc[:, 0:1]"
   ]
  },
  {
   "cell_type": "code",
   "execution_count": 430,
   "id": "37dd9adc",
   "metadata": {},
   "outputs": [],
   "source": [
    "Hires =pd.concat([Hires , CollegeD , RoleD , CityT] , axis = 1)"
   ]
  },
  {
   "cell_type": "code",
   "execution_count": 431,
   "id": "ed6d7536",
   "metadata": {},
   "outputs": [
    {
     "data": {
      "text/html": [
       "<div>\n",
       "<style scoped>\n",
       "    .dataframe tbody tr th:only-of-type {\n",
       "        vertical-align: middle;\n",
       "    }\n",
       "\n",
       "    .dataframe tbody tr th {\n",
       "        vertical-align: top;\n",
       "    }\n",
       "\n",
       "    .dataframe thead th {\n",
       "        text-align: right;\n",
       "    }\n",
       "</style>\n",
       "<table border=\"1\" class=\"dataframe\">\n",
       "  <thead>\n",
       "    <tr style=\"text-align: right;\">\n",
       "      <th></th>\n",
       "      <th>College</th>\n",
       "      <th>Role</th>\n",
       "      <th>City type</th>\n",
       "      <th>Previous CTC</th>\n",
       "      <th>Previous job changes</th>\n",
       "      <th>Graduation marks</th>\n",
       "      <th>Exp (Months)</th>\n",
       "      <th>CTC</th>\n",
       "      <th>colleges_Tier 1</th>\n",
       "      <th>colleges_Tier 2</th>\n",
       "      <th>roles_Manager</th>\n",
       "      <th>citytype_Metro</th>\n",
       "    </tr>\n",
       "  </thead>\n",
       "  <tbody>\n",
       "    <tr>\n",
       "      <th>0</th>\n",
       "      <td>Tier 1</td>\n",
       "      <td>Manager</td>\n",
       "      <td>Non-Metro</td>\n",
       "      <td>55523</td>\n",
       "      <td>3</td>\n",
       "      <td>66</td>\n",
       "      <td>19</td>\n",
       "      <td>71406.58</td>\n",
       "      <td>1</td>\n",
       "      <td>0</td>\n",
       "      <td>1</td>\n",
       "      <td>0</td>\n",
       "    </tr>\n",
       "    <tr>\n",
       "      <th>1</th>\n",
       "      <td>Tier 2</td>\n",
       "      <td>Executive</td>\n",
       "      <td>Metro</td>\n",
       "      <td>57081</td>\n",
       "      <td>1</td>\n",
       "      <td>84</td>\n",
       "      <td>18</td>\n",
       "      <td>68005.87</td>\n",
       "      <td>0</td>\n",
       "      <td>1</td>\n",
       "      <td>0</td>\n",
       "      <td>1</td>\n",
       "    </tr>\n",
       "    <tr>\n",
       "      <th>2</th>\n",
       "      <td>Tier 2</td>\n",
       "      <td>Executive</td>\n",
       "      <td>Metro</td>\n",
       "      <td>60347</td>\n",
       "      <td>2</td>\n",
       "      <td>52</td>\n",
       "      <td>28</td>\n",
       "      <td>76764.02</td>\n",
       "      <td>0</td>\n",
       "      <td>1</td>\n",
       "      <td>0</td>\n",
       "      <td>1</td>\n",
       "    </tr>\n",
       "    <tr>\n",
       "      <th>3</th>\n",
       "      <td>Tier 3</td>\n",
       "      <td>Executive</td>\n",
       "      <td>Metro</td>\n",
       "      <td>49010</td>\n",
       "      <td>2</td>\n",
       "      <td>81</td>\n",
       "      <td>33</td>\n",
       "      <td>82092.39</td>\n",
       "      <td>0</td>\n",
       "      <td>0</td>\n",
       "      <td>0</td>\n",
       "      <td>1</td>\n",
       "    </tr>\n",
       "    <tr>\n",
       "      <th>4</th>\n",
       "      <td>Tier 3</td>\n",
       "      <td>Executive</td>\n",
       "      <td>Metro</td>\n",
       "      <td>57879</td>\n",
       "      <td>4</td>\n",
       "      <td>74</td>\n",
       "      <td>32</td>\n",
       "      <td>73878.10</td>\n",
       "      <td>0</td>\n",
       "      <td>0</td>\n",
       "      <td>0</td>\n",
       "      <td>1</td>\n",
       "    </tr>\n",
       "    <tr>\n",
       "      <th>...</th>\n",
       "      <td>...</td>\n",
       "      <td>...</td>\n",
       "      <td>...</td>\n",
       "      <td>...</td>\n",
       "      <td>...</td>\n",
       "      <td>...</td>\n",
       "      <td>...</td>\n",
       "      <td>...</td>\n",
       "      <td>...</td>\n",
       "      <td>...</td>\n",
       "      <td>...</td>\n",
       "      <td>...</td>\n",
       "    </tr>\n",
       "    <tr>\n",
       "      <th>1333</th>\n",
       "      <td>Tier 3</td>\n",
       "      <td>Executive</td>\n",
       "      <td>Metro</td>\n",
       "      <td>59661</td>\n",
       "      <td>4</td>\n",
       "      <td>68</td>\n",
       "      <td>50</td>\n",
       "      <td>69712.40</td>\n",
       "      <td>0</td>\n",
       "      <td>0</td>\n",
       "      <td>0</td>\n",
       "      <td>1</td>\n",
       "    </tr>\n",
       "    <tr>\n",
       "      <th>1334</th>\n",
       "      <td>Tier 1</td>\n",
       "      <td>Executive</td>\n",
       "      <td>Non-Metro</td>\n",
       "      <td>53714</td>\n",
       "      <td>1</td>\n",
       "      <td>67</td>\n",
       "      <td>18</td>\n",
       "      <td>69298.75</td>\n",
       "      <td>1</td>\n",
       "      <td>0</td>\n",
       "      <td>0</td>\n",
       "      <td>0</td>\n",
       "    </tr>\n",
       "    <tr>\n",
       "      <th>1335</th>\n",
       "      <td>Tier 2</td>\n",
       "      <td>Executive</td>\n",
       "      <td>Non-Metro</td>\n",
       "      <td>61957</td>\n",
       "      <td>1</td>\n",
       "      <td>47</td>\n",
       "      <td>18</td>\n",
       "      <td>66397.77</td>\n",
       "      <td>0</td>\n",
       "      <td>1</td>\n",
       "      <td>0</td>\n",
       "      <td>0</td>\n",
       "    </tr>\n",
       "    <tr>\n",
       "      <th>1336</th>\n",
       "      <td>Tier 1</td>\n",
       "      <td>Executive</td>\n",
       "      <td>Non-Metro</td>\n",
       "      <td>53203</td>\n",
       "      <td>3</td>\n",
       "      <td>69</td>\n",
       "      <td>21</td>\n",
       "      <td>64044.38</td>\n",
       "      <td>1</td>\n",
       "      <td>0</td>\n",
       "      <td>0</td>\n",
       "      <td>0</td>\n",
       "    </tr>\n",
       "    <tr>\n",
       "      <th>1337</th>\n",
       "      <td>Tier 3</td>\n",
       "      <td>Manager</td>\n",
       "      <td>Non-Metro</td>\n",
       "      <td>51820</td>\n",
       "      <td>1</td>\n",
       "      <td>47</td>\n",
       "      <td>61</td>\n",
       "      <td>83346.06</td>\n",
       "      <td>0</td>\n",
       "      <td>0</td>\n",
       "      <td>1</td>\n",
       "      <td>0</td>\n",
       "    </tr>\n",
       "  </tbody>\n",
       "</table>\n",
       "<p>1338 rows × 12 columns</p>\n",
       "</div>"
      ],
      "text/plain": [
       "     College       Role  City type  Previous CTC  Previous job changes  \\\n",
       "0     Tier 1    Manager  Non-Metro         55523                     3   \n",
       "1     Tier 2  Executive      Metro         57081                     1   \n",
       "2     Tier 2  Executive      Metro         60347                     2   \n",
       "3     Tier 3  Executive      Metro         49010                     2   \n",
       "4     Tier 3  Executive      Metro         57879                     4   \n",
       "...      ...        ...        ...           ...                   ...   \n",
       "1333  Tier 3  Executive      Metro         59661                     4   \n",
       "1334  Tier 1  Executive  Non-Metro         53714                     1   \n",
       "1335  Tier 2  Executive  Non-Metro         61957                     1   \n",
       "1336  Tier 1  Executive  Non-Metro         53203                     3   \n",
       "1337  Tier 3    Manager  Non-Metro         51820                     1   \n",
       "\n",
       "      Graduation marks  Exp (Months)       CTC  colleges_Tier 1  \\\n",
       "0                   66            19  71406.58                1   \n",
       "1                   84            18  68005.87                0   \n",
       "2                   52            28  76764.02                0   \n",
       "3                   81            33  82092.39                0   \n",
       "4                   74            32  73878.10                0   \n",
       "...                ...           ...       ...              ...   \n",
       "1333                68            50  69712.40                0   \n",
       "1334                67            18  69298.75                1   \n",
       "1335                47            18  66397.77                0   \n",
       "1336                69            21  64044.38                1   \n",
       "1337                47            61  83346.06                0   \n",
       "\n",
       "      colleges_Tier 2  roles_Manager  citytype_Metro  \n",
       "0                   0              1               0  \n",
       "1                   1              0               1  \n",
       "2                   1              0               1  \n",
       "3                   0              0               1  \n",
       "4                   0              0               1  \n",
       "...               ...            ...             ...  \n",
       "1333                0              0               1  \n",
       "1334                0              0               0  \n",
       "1335                1              0               0  \n",
       "1336                0              0               0  \n",
       "1337                0              1               0  \n",
       "\n",
       "[1338 rows x 12 columns]"
      ]
     },
     "execution_count": 431,
     "metadata": {},
     "output_type": "execute_result"
    }
   ],
   "source": [
    "Hires"
   ]
  },
  {
   "cell_type": "code",
   "execution_count": 432,
   "id": "25c3be98",
   "metadata": {},
   "outputs": [],
   "source": [
    "Hires = Hires.drop(['College' , 'Role' , 'City type'] , axis = 1)"
   ]
  },
  {
   "cell_type": "code",
   "execution_count": 433,
   "id": "a14d08bb",
   "metadata": {},
   "outputs": [
    {
     "data": {
      "text/html": [
       "<div>\n",
       "<style scoped>\n",
       "    .dataframe tbody tr th:only-of-type {\n",
       "        vertical-align: middle;\n",
       "    }\n",
       "\n",
       "    .dataframe tbody tr th {\n",
       "        vertical-align: top;\n",
       "    }\n",
       "\n",
       "    .dataframe thead th {\n",
       "        text-align: right;\n",
       "    }\n",
       "</style>\n",
       "<table border=\"1\" class=\"dataframe\">\n",
       "  <thead>\n",
       "    <tr style=\"text-align: right;\">\n",
       "      <th></th>\n",
       "      <th>Previous CTC</th>\n",
       "      <th>Previous job changes</th>\n",
       "      <th>Graduation marks</th>\n",
       "      <th>Exp (Months)</th>\n",
       "      <th>CTC</th>\n",
       "      <th>colleges_Tier 1</th>\n",
       "      <th>colleges_Tier 2</th>\n",
       "      <th>roles_Manager</th>\n",
       "      <th>citytype_Metro</th>\n",
       "    </tr>\n",
       "  </thead>\n",
       "  <tbody>\n",
       "    <tr>\n",
       "      <th>0</th>\n",
       "      <td>55523</td>\n",
       "      <td>3</td>\n",
       "      <td>66</td>\n",
       "      <td>19</td>\n",
       "      <td>71406.58</td>\n",
       "      <td>1</td>\n",
       "      <td>0</td>\n",
       "      <td>1</td>\n",
       "      <td>0</td>\n",
       "    </tr>\n",
       "    <tr>\n",
       "      <th>1</th>\n",
       "      <td>57081</td>\n",
       "      <td>1</td>\n",
       "      <td>84</td>\n",
       "      <td>18</td>\n",
       "      <td>68005.87</td>\n",
       "      <td>0</td>\n",
       "      <td>1</td>\n",
       "      <td>0</td>\n",
       "      <td>1</td>\n",
       "    </tr>\n",
       "    <tr>\n",
       "      <th>2</th>\n",
       "      <td>60347</td>\n",
       "      <td>2</td>\n",
       "      <td>52</td>\n",
       "      <td>28</td>\n",
       "      <td>76764.02</td>\n",
       "      <td>0</td>\n",
       "      <td>1</td>\n",
       "      <td>0</td>\n",
       "      <td>1</td>\n",
       "    </tr>\n",
       "    <tr>\n",
       "      <th>3</th>\n",
       "      <td>49010</td>\n",
       "      <td>2</td>\n",
       "      <td>81</td>\n",
       "      <td>33</td>\n",
       "      <td>82092.39</td>\n",
       "      <td>0</td>\n",
       "      <td>0</td>\n",
       "      <td>0</td>\n",
       "      <td>1</td>\n",
       "    </tr>\n",
       "    <tr>\n",
       "      <th>4</th>\n",
       "      <td>57879</td>\n",
       "      <td>4</td>\n",
       "      <td>74</td>\n",
       "      <td>32</td>\n",
       "      <td>73878.10</td>\n",
       "      <td>0</td>\n",
       "      <td>0</td>\n",
       "      <td>0</td>\n",
       "      <td>1</td>\n",
       "    </tr>\n",
       "  </tbody>\n",
       "</table>\n",
       "</div>"
      ],
      "text/plain": [
       "   Previous CTC  Previous job changes  Graduation marks  Exp (Months)  \\\n",
       "0         55523                     3                66            19   \n",
       "1         57081                     1                84            18   \n",
       "2         60347                     2                52            28   \n",
       "3         49010                     2                81            33   \n",
       "4         57879                     4                74            32   \n",
       "\n",
       "        CTC  colleges_Tier 1  colleges_Tier 2  roles_Manager  citytype_Metro  \n",
       "0  71406.58                1                0              1               0  \n",
       "1  68005.87                0                1              0               1  \n",
       "2  76764.02                0                1              0               1  \n",
       "3  82092.39                0                0              0               1  \n",
       "4  73878.10                0                0              0               1  "
      ]
     },
     "execution_count": 433,
     "metadata": {},
     "output_type": "execute_result"
    }
   ],
   "source": [
    "Hires.head()"
   ]
  },
  {
   "cell_type": "code",
   "execution_count": 434,
   "id": "db7bf73e",
   "metadata": {},
   "outputs": [],
   "source": [
    "columnsTitles = ['colleges_Tier 1' , 'colleges_Tier 2' , 'roles_Manager' ,'citytype_Metro' , 'Previous CTC' , 'Previous job changes' , 'Graduation marks' , 'Exp (Months)' , 'CTC']\n",
    "\n",
    "Hires = Hires.reindex(columns=columnsTitles)"
   ]
  },
  {
   "cell_type": "code",
   "execution_count": 435,
   "id": "66d931c9",
   "metadata": {},
   "outputs": [
    {
     "data": {
      "text/plain": [
       "colleges_Tier 1         0\n",
       "colleges_Tier 2         0\n",
       "roles_Manager           0\n",
       "citytype_Metro          0\n",
       "Previous CTC            0\n",
       "Previous job changes    0\n",
       "Graduation marks        0\n",
       "Exp (Months)            0\n",
       "CTC                     0\n",
       "dtype: int64"
      ]
     },
     "execution_count": 435,
     "metadata": {},
     "output_type": "execute_result"
    }
   ],
   "source": [
    "Hires.isna().sum()"
   ]
  },
  {
   "cell_type": "code",
   "execution_count": 436,
   "id": "7a0c184a",
   "metadata": {},
   "outputs": [],
   "source": [
    "Hires = Hires.astype(float)"
   ]
  },
  {
   "cell_type": "code",
   "execution_count": 437,
   "id": "b783eb0a",
   "metadata": {},
   "outputs": [
    {
     "data": {
      "text/plain": [
       "colleges_Tier 1         float64\n",
       "colleges_Tier 2         float64\n",
       "roles_Manager           float64\n",
       "citytype_Metro          float64\n",
       "Previous CTC            float64\n",
       "Previous job changes    float64\n",
       "Graduation marks        float64\n",
       "Exp (Months)            float64\n",
       "CTC                     float64\n",
       "dtype: object"
      ]
     },
     "execution_count": 437,
     "metadata": {},
     "output_type": "execute_result"
    }
   ],
   "source": [
    "Hires.dtypes"
   ]
  },
  {
   "cell_type": "code",
   "execution_count": 438,
   "id": "4742fb77",
   "metadata": {},
   "outputs": [],
   "source": [
    "X = Hires.drop('CTC' , axis = 1)\n",
    "y = Hires['CTC']"
   ]
  },
  {
   "cell_type": "code",
   "execution_count": 439,
   "id": "553161ea",
   "metadata": {},
   "outputs": [],
   "source": [
    "from sklearn.model_selection import train_test_split\n",
    "train_X  , test_X , train_y , test_y = train_test_split(X, y, test_size = 0.3 , random_state = 2) "
   ]
  },
  {
   "cell_type": "code",
   "execution_count": 440,
   "id": "1bb39c87",
   "metadata": {},
   "outputs": [],
   "source": [
    "from sklearn.linear_model import LinearRegression\n",
    "reg = LinearRegression().fit(train_X, train_y)"
   ]
  },
  {
   "cell_type": "code",
   "execution_count": 441,
   "id": "c5879266",
   "metadata": {},
   "outputs": [
    {
     "data": {
      "text/plain": [
       "0.6372176223093018"
      ]
     },
     "execution_count": 441,
     "metadata": {},
     "output_type": "execute_result"
    }
   ],
   "source": [
    "reg.score(test_X, test_y)"
   ]
  },
  {
   "cell_type": "code",
   "execution_count": 442,
   "id": "76ea7b1d",
   "metadata": {},
   "outputs": [
    {
     "data": {
      "text/plain": [
       "0.5915885948488417"
      ]
     },
     "execution_count": 442,
     "metadata": {},
     "output_type": "execute_result"
    }
   ],
   "source": [
    "reg.score(train_X, train_y) "
   ]
  },
  {
   "cell_type": "code",
   "execution_count": 443,
   "id": "9fecb3a5",
   "metadata": {},
   "outputs": [],
   "source": [
    "test_data_prediction = reg.predict(test_X)"
   ]
  },
  {
   "cell_type": "code",
   "execution_count": 444,
   "id": "271cb252",
   "metadata": {},
   "outputs": [
    {
     "data": {
      "text/plain": [
       "array([ 71347.32613176,  73480.76949211,  79633.53461659,  63874.7858195 ,\n",
       "        71449.44149352,  70619.51186143,  64080.05645792,  66253.9738497 ,\n",
       "        70027.64089918,  68910.15193052,  71500.5565045 ,  64965.72913258,\n",
       "        82739.5365174 ,  62345.17006338,  76232.43897453,  73527.9562203 ,\n",
       "        72413.78877105,  67186.48536473,  85148.66537248,  67775.32876438,\n",
       "        69853.46057956,  67430.05262246,  94402.12467304,  89969.42662847,\n",
       "        88072.80894425,  74576.2418352 ,  63903.01810646,  77836.00379858,\n",
       "        72203.01445207,  59399.85876326,  69263.46519975,  63103.43228617,\n",
       "        68174.51507882,  65368.24833646,  68234.74760572,  64853.2831886 ,\n",
       "        87833.09771776,  77033.85179737,  88947.731099  ,  76358.19380403,\n",
       "        56969.52106914,  92562.56906471,  65428.35990372,  66666.10141943,\n",
       "        70109.25853791,  70935.71789937,  72595.62698124,  74277.34314119,\n",
       "        75136.38239588,  81913.36564817,  73328.71257266,  68355.0354054 ,\n",
       "        81446.40819232,  94021.26009622,  71660.39044822,  80677.73056652,\n",
       "        68253.9336761 ,  73185.33920822,  65561.29887066,  93476.42674999,\n",
       "        72729.58343285,  67930.14363617,  62471.62037665,  94219.12536624,\n",
       "        64942.06269917,  82015.43857389,  83503.96072826,  64735.08287493,\n",
       "        70334.68481026,  71242.89900771,  75725.50209117,  74356.17694959,\n",
       "        72773.67216126,  73723.83605173,  82997.48616154,  78435.92928285,\n",
       "        69237.23489623,  69013.98073275,  70085.25397998,  71558.9105911 ,\n",
       "        77270.45066494,  79163.45090429,  75654.44401   ,  87476.37159412,\n",
       "        77176.67254783,  63693.25850032,  97694.61976059,  73496.51509309,\n",
       "        75978.57653257,  75038.32664227,  73968.68238117,  85432.78429638,\n",
       "        66937.22672414,  77939.78663407,  69787.35881313,  84279.40720237,\n",
       "        63099.2648745 ,  72237.51293638,  64177.60666556,  85862.61699746,\n",
       "        69540.97684937,  66567.29618024,  63905.92205217,  77651.01709751,\n",
       "        69927.17711873,  77335.32458614,  71766.56192875,  63908.67407295,\n",
       "        79179.79870105,  91717.2513334 ,  61742.31626145,  76489.24832777,\n",
       "        87579.24596083,  78842.92411204,  67788.44260659,  67735.7028983 ,\n",
       "        74309.67518168,  69183.42023501,  77158.99894828,  89448.29368883,\n",
       "        73065.01831914,  68227.43970686,  77422.71057504,  79864.92868374,\n",
       "        68095.82368608,  85018.50537137,  91167.61766379,  73528.66366207,\n",
       "        64191.68642053,  69939.7534954 ,  67342.61304663,  71968.8016258 ,\n",
       "        70035.00956613,  64497.71617019,  64035.09978295,  71729.58398296,\n",
       "        69758.89364912,  90170.68552709,  94595.15082745,  66431.56513614,\n",
       "        93464.64994479,  61773.55268126,  67209.39484218,  76524.8362596 ,\n",
       "        76569.39262525,  89030.4621329 ,  74961.30466661,  74055.6606826 ,\n",
       "        67370.21361648,  69590.91824378,  68527.59642495,  68273.98234413,\n",
       "        63448.93358705,  80976.83167278,  76978.15547605,  73941.51893367,\n",
       "        72728.42482271,  90460.48100836,  59860.40357417,  74710.82500576,\n",
       "        82204.28722019,  75729.66671201,  75384.06214328,  63792.07211239,\n",
       "        64258.20682375,  66850.0689548 ,  80697.7042411 ,  91504.03792445,\n",
       "        82137.58031783,  67888.96296938,  92732.12242315,  79579.3081769 ,\n",
       "        90510.03956709,  91000.00334903,  76276.32680754,  72547.19894527,\n",
       "        69521.40881477,  65779.91294487,  76453.44266042,  72256.38387758,\n",
       "        65156.68972421,  65182.57770115,  85578.54469299,  68527.66643624,\n",
       "        72052.85208775,  84048.67102394,  77351.53777341,  60687.21509757,\n",
       "        68746.31100763,  93753.94212031,  67363.68494305,  63413.75218774,\n",
       "        69535.98088583,  82990.35467701,  73563.85640095,  99044.89432178,\n",
       "       102737.90025794,  76499.03263734,  83135.67466747,  82112.8763039 ,\n",
       "        93660.34412177,  69728.99921554,  67930.77367113,  61931.08203401,\n",
       "        73761.82149394,  76202.45432801,  70761.1740545 ,  95526.54901303,\n",
       "        81437.50532397,  67283.05929351,  68598.95516883,  88199.81523877,\n",
       "        66801.79550441,  72372.83516611,  69612.3072419 ,  75013.7109015 ,\n",
       "        91820.53647137,  66793.85894986,  63672.91724474,  70218.09725462,\n",
       "        99745.51670953,  71675.9789887 ,  94861.42654564,  88305.76380256,\n",
       "        73521.75828484,  81590.14441444,  79590.51538394,  65776.9636773 ,\n",
       "        72210.91524756,  70905.21919585,  73948.29160565,  68582.6468439 ,\n",
       "        71483.90790863,  66637.72282247,  85085.36862959,  86056.5277235 ,\n",
       "        83571.152122  ,  74590.72965246,  69845.00329509,  64790.43231296,\n",
       "        73151.45041783,  70331.01650898,  74048.60357423,  69511.03778747,\n",
       "        92555.10291806,  89111.23634924,  65253.95665021,  79187.0318422 ,\n",
       "        76131.10288238,  68286.47116844,  77496.09324647,  67299.22731133,\n",
       "        68622.14116342,  77920.10430276,  80623.66986171,  65110.66252981,\n",
       "        74171.36396378,  69000.43173943,  63617.78176627,  71013.84975704,\n",
       "        88762.9940319 ,  88225.6054709 ,  96362.91243749,  62678.3944449 ,\n",
       "        85842.74092568,  89435.01131508,  76447.43873609,  88646.89402652,\n",
       "        62735.36641298,  69112.17179013,  76679.23927085,  66552.30623518,\n",
       "        68390.7433137 ,  98562.03378622,  72011.40472086,  78252.48143874,\n",
       "        70662.01482129,  93381.85705577,  76980.04837985,  88571.8652252 ,\n",
       "        58780.29988184,  70448.03951863,  64504.90889364,  67350.48971935,\n",
       "        99847.54793   ,  86398.91863901,  88872.22173688,  68353.89833081,\n",
       "        75740.14429448,  86052.27673904,  69313.64238104,  67756.1979618 ,\n",
       "        77616.20134117,  77097.51313805,  67560.60822627,  60461.68339344,\n",
       "        72070.10454828,  66761.94689525,  68954.56205716,  72944.77338482,\n",
       "        65320.92292595,  71919.69419038,  88148.1012078 ,  67995.83971502,\n",
       "        71449.82204061,  73014.57533862,  73814.58236665,  73399.30769712,\n",
       "        97362.3895786 ,  67478.34629709,  79134.58177253,  74766.11789986,\n",
       "        69025.07292801,  64989.65347487,  79191.79551257,  77707.96439012,\n",
       "        73939.80169826,  83664.35178845,  73453.86064986,  77341.83753426,\n",
       "        73940.06117158,  91405.71928237,  77476.23984981,  63362.32024247,\n",
       "        63167.64673696,  75251.07798246,  71278.35589672,  76139.56966766,\n",
       "        69090.09991529,  67005.5928492 ,  78153.20564627,  86017.14522626,\n",
       "        65625.72321471,  79647.80311477,  73309.98167587,  66520.04159155,\n",
       "        83921.39283882,  87575.67255614,  79026.20238845,  65786.96833686,\n",
       "        77010.97430231,  92055.47036561,  66069.62181664,  76441.98714641,\n",
       "        91008.77920683,  78565.51453656,  70337.64172065,  95916.2070811 ,\n",
       "        76808.68419845,  70542.65528203,  66975.84683684,  71439.57927911,\n",
       "        64742.43760398,  71245.66873076,  63751.01122017,  71430.86768433,\n",
       "        74718.18013742,  68610.45000918,  96563.78237528,  71962.2688965 ,\n",
       "        86091.43168368,  79190.88700416,  74709.01367218,  73441.41737703,\n",
       "       104729.2201411 ,  75065.27252169,  92606.27450421,  80917.60788213,\n",
       "        60616.72537321,  96183.86017432,  65585.00674771,  71132.51662641,\n",
       "        76836.40960048,  78058.08576343,  93921.00013588,  76856.08645435,\n",
       "        66913.26114654, 104337.580074  ,  62301.52588901,  84330.9081926 ,\n",
       "        69054.484293  ,  88886.45768071,  69281.9139229 ,  81482.3983538 ,\n",
       "        74022.06023293,  67091.13132497,  94991.94810219,  77696.07793809,\n",
       "        64994.53746015,  73495.1882206 ,  74833.98651841,  74861.6040543 ,\n",
       "        66285.80691525, 101495.9983306 ,  70088.18777948,  72903.23325992,\n",
       "        72601.23792837,  65897.60079042,  70080.29507525,  97390.9915193 ,\n",
       "        90104.93513994,  68281.97011994])"
      ]
     },
     "execution_count": 444,
     "metadata": {},
     "output_type": "execute_result"
    }
   ],
   "source": [
    "test_data_prediction"
   ]
  },
  {
   "cell_type": "code",
   "execution_count": 463,
   "id": "693c3a2d",
   "metadata": {},
   "outputs": [
    {
     "name": "stdout",
     "output_type": "stream",
     "text": [
      "R2 score :  0.6372176223093018\n"
     ]
    }
   ],
   "source": [
    "from sklearn import metrics\n",
    "score = metrics.r2_score(test_y, test_data_prediction)\n",
    "print(\"R2 score : \", score)"
   ]
  },
  {
   "cell_type": "code",
   "execution_count": 493,
   "id": "7b1e0012",
   "metadata": {},
   "outputs": [],
   "source": [
    "test = pd.read_csv('testhires.csv')"
   ]
  },
  {
   "cell_type": "code",
   "execution_count": 494,
   "id": "92071d4a",
   "metadata": {},
   "outputs": [
    {
     "data": {
      "text/html": [
       "<div>\n",
       "<style scoped>\n",
       "    .dataframe tbody tr th:only-of-type {\n",
       "        vertical-align: middle;\n",
       "    }\n",
       "\n",
       "    .dataframe tbody tr th {\n",
       "        vertical-align: top;\n",
       "    }\n",
       "\n",
       "    .dataframe thead th {\n",
       "        text-align: right;\n",
       "    }\n",
       "</style>\n",
       "<table border=\"1\" class=\"dataframe\">\n",
       "  <thead>\n",
       "    <tr style=\"text-align: right;\">\n",
       "      <th></th>\n",
       "      <th>College</th>\n",
       "      <th>Role</th>\n",
       "      <th>City type</th>\n",
       "      <th>College_T1</th>\n",
       "      <th>College_T2</th>\n",
       "      <th>Role_Manager</th>\n",
       "      <th>City_Metro</th>\n",
       "      <th>previous CTC</th>\n",
       "      <th>previous job changes</th>\n",
       "      <th>Graduation marks</th>\n",
       "      <th>Exp</th>\n",
       "      <th>Actual CTC</th>\n",
       "      <th>Predicted CTC</th>\n",
       "    </tr>\n",
       "  </thead>\n",
       "  <tbody>\n",
       "    <tr>\n",
       "      <th>0</th>\n",
       "      <td>Tier 1</td>\n",
       "      <td>Manager</td>\n",
       "      <td>Non-Metro</td>\n",
       "      <td>1</td>\n",
       "      <td>0</td>\n",
       "      <td>1</td>\n",
       "      <td>0</td>\n",
       "      <td>55523</td>\n",
       "      <td>3</td>\n",
       "      <td>66</td>\n",
       "      <td>19</td>\n",
       "      <td>71406.57653</td>\n",
       "      <td>NaN</td>\n",
       "    </tr>\n",
       "    <tr>\n",
       "      <th>1</th>\n",
       "      <td>Tier 2</td>\n",
       "      <td>Executive</td>\n",
       "      <td>Metro</td>\n",
       "      <td>0</td>\n",
       "      <td>1</td>\n",
       "      <td>0</td>\n",
       "      <td>1</td>\n",
       "      <td>57081</td>\n",
       "      <td>1</td>\n",
       "      <td>84</td>\n",
       "      <td>18</td>\n",
       "      <td>68005.87063</td>\n",
       "      <td>NaN</td>\n",
       "    </tr>\n",
       "    <tr>\n",
       "      <th>2</th>\n",
       "      <td>Tier 2</td>\n",
       "      <td>Executive</td>\n",
       "      <td>Metro</td>\n",
       "      <td>0</td>\n",
       "      <td>1</td>\n",
       "      <td>0</td>\n",
       "      <td>1</td>\n",
       "      <td>60347</td>\n",
       "      <td>2</td>\n",
       "      <td>52</td>\n",
       "      <td>28</td>\n",
       "      <td>76764.02028</td>\n",
       "      <td>NaN</td>\n",
       "    </tr>\n",
       "    <tr>\n",
       "      <th>3</th>\n",
       "      <td>Tier 3</td>\n",
       "      <td>Executive</td>\n",
       "      <td>Metro</td>\n",
       "      <td>0</td>\n",
       "      <td>0</td>\n",
       "      <td>0</td>\n",
       "      <td>1</td>\n",
       "      <td>49010</td>\n",
       "      <td>2</td>\n",
       "      <td>81</td>\n",
       "      <td>33</td>\n",
       "      <td>82092.38688</td>\n",
       "      <td>NaN</td>\n",
       "    </tr>\n",
       "    <tr>\n",
       "      <th>4</th>\n",
       "      <td>Tier 3</td>\n",
       "      <td>Executive</td>\n",
       "      <td>Metro</td>\n",
       "      <td>0</td>\n",
       "      <td>0</td>\n",
       "      <td>0</td>\n",
       "      <td>1</td>\n",
       "      <td>57879</td>\n",
       "      <td>4</td>\n",
       "      <td>74</td>\n",
       "      <td>32</td>\n",
       "      <td>73878.09773</td>\n",
       "      <td>NaN</td>\n",
       "    </tr>\n",
       "  </tbody>\n",
       "</table>\n",
       "</div>"
      ],
      "text/plain": [
       "  College       Role  City type  College_T1  College_T2  Role_Manager  \\\n",
       "0  Tier 1    Manager  Non-Metro           1           0             1   \n",
       "1  Tier 2  Executive      Metro           0           1             0   \n",
       "2  Tier 2  Executive      Metro           0           1             0   \n",
       "3  Tier 3  Executive      Metro           0           0             0   \n",
       "4  Tier 3  Executive      Metro           0           0             0   \n",
       "\n",
       "   City_Metro  previous CTC  previous job changes  Graduation marks  Exp  \\\n",
       "0           0         55523                     3                66   19   \n",
       "1           1         57081                     1                84   18   \n",
       "2           1         60347                     2                52   28   \n",
       "3           1         49010                     2                81   33   \n",
       "4           1         57879                     4                74   32   \n",
       "\n",
       "    Actual CTC  Predicted CTC  \n",
       "0  71406.57653            NaN  \n",
       "1  68005.87063            NaN  \n",
       "2  76764.02028            NaN  \n",
       "3  82092.38688            NaN  \n",
       "4  73878.09773            NaN  "
      ]
     },
     "execution_count": 494,
     "metadata": {},
     "output_type": "execute_result"
    }
   ],
   "source": [
    "test.head()"
   ]
  },
  {
   "cell_type": "code",
   "execution_count": 495,
   "id": "8569e6cf",
   "metadata": {},
   "outputs": [],
   "source": [
    "y1 = test['Actual CTC']"
   ]
  },
  {
   "cell_type": "code",
   "execution_count": 496,
   "id": "03dcda2d",
   "metadata": {},
   "outputs": [],
   "source": [
    "test.drop(['College' , 'Role' , 'City type' , 'Predicted CTC' , 'Actual CTC'] , axis = 1, inplace = True)"
   ]
  },
  {
   "cell_type": "code",
   "execution_count": 497,
   "id": "6e3191cc",
   "metadata": {},
   "outputs": [
    {
     "data": {
      "text/plain": [
       "College_T1              int64\n",
       "College_T2              int64\n",
       "Role_Manager            int64\n",
       "City_Metro              int64\n",
       "previous CTC            int64\n",
       "previous job changes    int64\n",
       "Graduation marks        int64\n",
       "Exp                     int64\n",
       "dtype: object"
      ]
     },
     "execution_count": 497,
     "metadata": {},
     "output_type": "execute_result"
    }
   ],
   "source": [
    "test.dtypes"
   ]
  },
  {
   "cell_type": "code",
   "execution_count": 498,
   "id": "c5f6ba46",
   "metadata": {},
   "outputs": [],
   "source": [
    "test = test.astype(float)"
   ]
  },
  {
   "cell_type": "code",
   "execution_count": 499,
   "id": "cddf1ea3",
   "metadata": {},
   "outputs": [
    {
     "data": {
      "text/plain": [
       "College_T1              float64\n",
       "College_T2              float64\n",
       "Role_Manager            float64\n",
       "City_Metro              float64\n",
       "previous CTC            float64\n",
       "previous job changes    float64\n",
       "Graduation marks        float64\n",
       "Exp                     float64\n",
       "dtype: object"
      ]
     },
     "execution_count": 499,
     "metadata": {},
     "output_type": "execute_result"
    }
   ],
   "source": [
    "test.dtypes"
   ]
  },
  {
   "cell_type": "code",
   "execution_count": 500,
   "id": "f45aee4c",
   "metadata": {},
   "outputs": [
    {
     "data": {
      "text/html": [
       "<div>\n",
       "<style scoped>\n",
       "    .dataframe tbody tr th:only-of-type {\n",
       "        vertical-align: middle;\n",
       "    }\n",
       "\n",
       "    .dataframe tbody tr th {\n",
       "        vertical-align: top;\n",
       "    }\n",
       "\n",
       "    .dataframe thead th {\n",
       "        text-align: right;\n",
       "    }\n",
       "</style>\n",
       "<table border=\"1\" class=\"dataframe\">\n",
       "  <thead>\n",
       "    <tr style=\"text-align: right;\">\n",
       "      <th></th>\n",
       "      <th>College_T1</th>\n",
       "      <th>College_T2</th>\n",
       "      <th>Role_Manager</th>\n",
       "      <th>City_Metro</th>\n",
       "      <th>previous CTC</th>\n",
       "      <th>previous job changes</th>\n",
       "      <th>Graduation marks</th>\n",
       "      <th>Exp</th>\n",
       "    </tr>\n",
       "  </thead>\n",
       "  <tbody>\n",
       "    <tr>\n",
       "      <th>0</th>\n",
       "      <td>1.0</td>\n",
       "      <td>0.0</td>\n",
       "      <td>1.0</td>\n",
       "      <td>0.0</td>\n",
       "      <td>55523.0</td>\n",
       "      <td>3.0</td>\n",
       "      <td>66.0</td>\n",
       "      <td>19.0</td>\n",
       "    </tr>\n",
       "    <tr>\n",
       "      <th>1</th>\n",
       "      <td>0.0</td>\n",
       "      <td>1.0</td>\n",
       "      <td>0.0</td>\n",
       "      <td>1.0</td>\n",
       "      <td>57081.0</td>\n",
       "      <td>1.0</td>\n",
       "      <td>84.0</td>\n",
       "      <td>18.0</td>\n",
       "    </tr>\n",
       "    <tr>\n",
       "      <th>2</th>\n",
       "      <td>0.0</td>\n",
       "      <td>1.0</td>\n",
       "      <td>0.0</td>\n",
       "      <td>1.0</td>\n",
       "      <td>60347.0</td>\n",
       "      <td>2.0</td>\n",
       "      <td>52.0</td>\n",
       "      <td>28.0</td>\n",
       "    </tr>\n",
       "    <tr>\n",
       "      <th>3</th>\n",
       "      <td>0.0</td>\n",
       "      <td>0.0</td>\n",
       "      <td>0.0</td>\n",
       "      <td>1.0</td>\n",
       "      <td>49010.0</td>\n",
       "      <td>2.0</td>\n",
       "      <td>81.0</td>\n",
       "      <td>33.0</td>\n",
       "    </tr>\n",
       "    <tr>\n",
       "      <th>4</th>\n",
       "      <td>0.0</td>\n",
       "      <td>0.0</td>\n",
       "      <td>0.0</td>\n",
       "      <td>1.0</td>\n",
       "      <td>57879.0</td>\n",
       "      <td>4.0</td>\n",
       "      <td>74.0</td>\n",
       "      <td>32.0</td>\n",
       "    </tr>\n",
       "  </tbody>\n",
       "</table>\n",
       "</div>"
      ],
      "text/plain": [
       "   College_T1  College_T2  Role_Manager  City_Metro  previous CTC  \\\n",
       "0         1.0         0.0           1.0         0.0       55523.0   \n",
       "1         0.0         1.0           0.0         1.0       57081.0   \n",
       "2         0.0         1.0           0.0         1.0       60347.0   \n",
       "3         0.0         0.0           0.0         1.0       49010.0   \n",
       "4         0.0         0.0           0.0         1.0       57879.0   \n",
       "\n",
       "   previous job changes  Graduation marks   Exp  \n",
       "0                   3.0              66.0  19.0  \n",
       "1                   1.0              84.0  18.0  \n",
       "2                   2.0              52.0  28.0  \n",
       "3                   2.0              81.0  33.0  \n",
       "4                   4.0              74.0  32.0  "
      ]
     },
     "execution_count": 500,
     "metadata": {},
     "output_type": "execute_result"
    }
   ],
   "source": [
    "test.head()"
   ]
  },
  {
   "cell_type": "code",
   "execution_count": 490,
   "id": "7bd28f0d",
   "metadata": {},
   "outputs": [
    {
     "name": "stdout",
     "output_type": "stream",
     "text": [
      "Target on test data [86017.14522626 67039.47075481 70905.21919585 ... 65151.79406742\n",
      " 66666.10141943 89435.01131508]\n"
     ]
    }
   ],
   "source": [
    "predict_test = reg.predict(test)\n",
    "print('Target on test data', predict_test)"
   ]
  },
  {
   "cell_type": "code",
   "execution_count": 491,
   "id": "429f9cb6",
   "metadata": {},
   "outputs": [],
   "source": [
    "test['Predicted']=predict_test.tolist()"
   ]
  },
  {
   "cell_type": "code",
   "execution_count": 492,
   "id": "aa5b29c2",
   "metadata": {},
   "outputs": [
    {
     "data": {
      "text/plain": [
       "0       86017.145226\n",
       "1       67039.470755\n",
       "2       70905.219196\n",
       "3       66793.030601\n",
       "4       70452.864882\n",
       "            ...     \n",
       "1333    75543.522619\n",
       "1334    66332.825128\n",
       "1335    65151.794067\n",
       "1336    66666.101419\n",
       "1337    89435.011315\n",
       "Name: Predicted, Length: 1338, dtype: float64"
      ]
     },
     "execution_count": 492,
     "metadata": {},
     "output_type": "execute_result"
    }
   ],
   "source": [
    "test.Predicted"
   ]
  },
  {
   "cell_type": "code",
   "execution_count": 458,
   "id": "aba22945",
   "metadata": {},
   "outputs": [
    {
     "data": {
      "text/plain": [
       "0       71406.57653\n",
       "1       68005.87063\n",
       "2       76764.02028\n",
       "3       82092.38688\n",
       "4       73878.09773\n",
       "           ...     \n",
       "1333    69712.40366\n",
       "1334    69298.75010\n",
       "1335    66397.77069\n",
       "1336    64044.38295\n",
       "1337    83346.06096\n",
       "Name: Actual CTC, Length: 1338, dtype: float64"
      ]
     },
     "execution_count": 458,
     "metadata": {},
     "output_type": "execute_result"
    }
   ],
   "source": [
    "y1"
   ]
  },
  {
   "cell_type": "code",
   "execution_count": 468,
   "id": "b938f47d",
   "metadata": {},
   "outputs": [
    {
     "name": "stdout",
     "output_type": "stream",
     "text": [
      "R2 score :  0.606556073591544\n"
     ]
    }
   ],
   "source": [
    "from sklearn import metrics\n",
    "error_score = metrics.r2_score(y1, test.Predicted)\n",
    "print(\"R2 score : \", error_score)"
   ]
  },
  {
   "cell_type": "code",
   "execution_count": 469,
   "id": "07e01111",
   "metadata": {},
   "outputs": [
    {
     "data": {
      "text/plain": [
       "0       86017.145226\n",
       "1       67039.470755\n",
       "2       70905.219196\n",
       "3       66793.030601\n",
       "4       70452.864882\n",
       "            ...     \n",
       "1333    75543.522619\n",
       "1334    66332.825128\n",
       "1335    65151.794067\n",
       "1336    66666.101419\n",
       "1337    89435.011315\n",
       "Name: Predicted, Length: 1338, dtype: float64"
      ]
     },
     "execution_count": 469,
     "metadata": {},
     "output_type": "execute_result"
    }
   ],
   "source": [
    "test.Predicted"
   ]
  },
  {
   "cell_type": "code",
   "execution_count": 472,
   "id": "52e48c47",
   "metadata": {},
   "outputs": [
    {
     "name": "stdout",
     "output_type": "stream",
     "text": [
      "61934722.170763135\n"
     ]
    }
   ],
   "source": [
    "error_score = metrics.mean_squared_error(y1, test.Predicted)\n",
    "print(error_score)"
   ]
  },
  {
   "cell_type": "code",
   "execution_count": 474,
   "id": "053f77bb",
   "metadata": {},
   "outputs": [
    {
     "data": {
      "text/plain": [
       "7869.86163606217"
      ]
     },
     "execution_count": 474,
     "metadata": {},
     "output_type": "execute_result"
    }
   ],
   "source": [
    "np.sqrt(error_score)"
   ]
  },
  {
   "cell_type": "code",
   "execution_count": 475,
   "id": "c9889c1f",
   "metadata": {},
   "outputs": [],
   "source": [
    "from sklearn.ensemble import RandomForestRegressor"
   ]
  },
  {
   "cell_type": "code",
   "execution_count": 476,
   "id": "861fe732",
   "metadata": {},
   "outputs": [],
   "source": [
    "regressor = RandomForestRegressor(n_estimators=100)"
   ]
  },
  {
   "cell_type": "code",
   "execution_count": 477,
   "id": "dcab9203",
   "metadata": {},
   "outputs": [
    {
     "data": {
      "text/plain": [
       "RandomForestRegressor()"
      ]
     },
     "execution_count": 477,
     "metadata": {},
     "output_type": "execute_result"
    }
   ],
   "source": [
    "regressor.fit(train_X, train_y)"
   ]
  },
  {
   "cell_type": "code",
   "execution_count": 478,
   "id": "6a7b6bde",
   "metadata": {},
   "outputs": [],
   "source": [
    "test_data_prediction = regressor.predict(test_X)"
   ]
  },
  {
   "cell_type": "code",
   "execution_count": 479,
   "id": "0204a815",
   "metadata": {},
   "outputs": [
    {
     "data": {
      "text/plain": [
       "array([ 71692.6804,  77378.9166,  83482.8905,  66875.9232,  73431.1987,\n",
       "        69489.9516,  67094.8926,  68542.3315,  72599.7208,  68000.3499,\n",
       "        72186.4882,  61619.8136,  75876.5514,  64972.7956,  76229.9303,\n",
       "        70986.069 ,  71937.4538,  64387.5087,  74037.9737,  71907.6974,\n",
       "        71961.1953,  72612.2077,  97668.0366,  81822.5016,  99404.8363,\n",
       "        81097.6043,  63310.5294,  71448.2354,  75828.279 ,  60986.3383,\n",
       "        65860.7189,  65605.1549,  67617.9744,  67988.6004,  73709.4775,\n",
       "        62652.4656,  96456.8525,  75569.9269,  76651.4498,  73418.9859,\n",
       "        63083.4663,  89665.0746,  72383.7204,  69690.9061,  70508.085 ,\n",
       "        73610.6224,  71705.4533,  70457.8187,  72310.0048,  79463.1244,\n",
       "        74484.6266,  73727.718 ,  90257.7755,  92975.6235,  72700.2699,\n",
       "        77640.0536,  72225.8244,  73580.6371,  68226.549 ,  95647.1033,\n",
       "        75855.6996,  71961.1982,  65380.8862,  95130.0983,  72409.8627,\n",
       "        79760.0808,  82859.7269,  62866.2784,  74770.4395,  70394.1314,\n",
       "        83232.7797,  73934.0559,  72155.588 ,  71071.201 ,  81543.0056,\n",
       "        77280.4998,  64862.0033,  64235.1743,  66187.4442,  71441.1488,\n",
       "        77719.2757,  78790.314 ,  65421.1672,  76154.4914,  75283.6888,\n",
       "        63250.9323, 107178.1789,  72846.4824,  80906.0749,  68069.8968,\n",
       "        75154.5262,  82510.2034,  71972.2703,  76617.9542,  76535.272 ,\n",
       "        85584.835 ,  64762.4173,  68334.8563,  66572.9466,  75923.3682,\n",
       "        70097.3237,  62827.3458,  64326.1028,  84989.1841,  66805.1115,\n",
       "        85763.507 ,  72022.7991,  70231.1187,  82244.1494,  84353.5901,\n",
       "        63803.0178,  79396.7304,  78125.0106,  77647.981 ,  67671.6288,\n",
       "        71430.4605,  72671.0757,  66795.4641,  78248.3581,  99776.7673,\n",
       "        73757.1873,  69675.736 ,  71181.8142,  78998.1519,  67027.6227,\n",
       "        75941.1161,  81937.707 ,  78203.4619,  66488.1355,  68074.5981,\n",
       "        68453.5429,  71099.2222,  73521.5636,  64258.9038,  63996.1842,\n",
       "        74063.3767,  68416.2183,  99819.5227, 104157.147 ,  66921.0426,\n",
       "        99664.4051,  64463.225 ,  64804.7143,  73863.6965,  73444.074 ,\n",
       "        97182.3733,  72810.7194,  69753.741 ,  71880.3589,  71592.1351,\n",
       "        67582.941 ,  64941.4664,  62153.6304,  79762.7675,  76401.4434,\n",
       "        74679.1428,  71505.4884,  84627.6767,  59840.5867,  77060.3023,\n",
       "        77835.661 ,  74109.4385,  73836.7268,  70518.6598,  63127.8546,\n",
       "        66438.753 ,  87682.0204,  78095.265 ,  78595.9721,  63052.9216,\n",
       "       105386.8442,  75508.9987,  97480.4571,  82397.6414,  77265.9229,\n",
       "        72943.6224,  74398.9293,  67844.5702,  77987.4354,  72116.8427,\n",
       "        64786.9224,  67064.1124,  75483.2081,  65822.9409,  65023.8771,\n",
       "        85466.5296,  78742.1646,  64778.4794,  62798.9134, 101162.8888,\n",
       "        71266.6386,  64581.0051,  67550.6938,  71890.6589,  71199.6139,\n",
       "       108218.8683, 102877.0383,  78681.0802,  76088.5534,  79912.4689,\n",
       "       103817.9606,  70782.6594,  66487.9269,  64699.7006,  75051.4718,\n",
       "        72605.7317,  73441.3791, 108351.0039,  84333.3159,  71744.5584,\n",
       "        71567.2042,  89936.04  ,  67366.8031,  67898.615 ,  73187.5165,\n",
       "        79570.1611,  88002.9533,  70422.1343,  62731.2517,  70706.0376,\n",
       "       107801.9936,  72084.5628, 103707.2974,  77666.8856,  74548.9269,\n",
       "        75417.0407,  79818.0083,  72671.2807,  70060.7454,  65345.1528,\n",
       "        75647.5871,  73588.3954,  71725.4919,  65887.082 ,  78246.1816,\n",
       "       101440.9326,  77650.8818,  72394.1034,  75534.5189,  63701.5996,\n",
       "        73245.483 ,  67763.8437,  75934.4483,  72507.4746,  92231.8047,\n",
       "        80734.5085,  69310.9673,  73142.5474,  70823.8459,  70138.1275,\n",
       "        74587.3683,  69570.7825,  70622.0841,  79324.7234,  78937.9039,\n",
       "        69356.2803,  75972.3077,  65679.6799,  75319.8311,  72980.6761,\n",
       "       100639.7071,  95083.734 , 103110.4257,  64706.4122,  80467.9605,\n",
       "        83933.6926,  71467.215 ,  81126.0093,  64161.1513,  68255.8666,\n",
       "        75895.728 ,  68055.3025,  67483.9015, 104451.9186,  72476.5942,\n",
       "        78026.3234,  65528.6728, 102327.7154,  75258.2123,  96154.3655,\n",
       "        65827.2928,  63976.322 ,  65606.6801,  65423.396 , 107180.1241,\n",
       "        91839.4983,  82076.6699,  68659.1336,  73250.2222,  83402.6032,\n",
       "        69266.3731,  64817.0128,  83274.5791,  78319.3928,  66939.6311,\n",
       "        58308.3923,  66002.3542,  67975.9533,  69524.0191,  74841.098 ,\n",
       "        66806.1332,  76883.5646,  81352.0301,  67652.7873,  70019.4979,\n",
       "        69848.1065,  77147.5915,  73506.4219, 106766.4651,  65236.6832,\n",
       "        78822.7007,  72792.1442,  70249.8926,  62332.2968,  71294.6921,\n",
       "        76410.5614,  68494.0043,  81210.0104,  74634.5105,  74567.5749,\n",
       "        68276.9605,  88046.8955,  73338.4465,  62116.877 ,  65104.5456,\n",
       "        71900.2246,  73717.3182,  73232.2805,  70442.5402,  63969.6635,\n",
       "        79115.7563,  91875.3834,  65153.5537,  77329.3824,  75979.674 ,\n",
       "        66286.079 ,  97903.2939,  91101.0448,  79462.2512,  69736.1818,\n",
       "        76531.594 ,  83833.8171,  69748.2574,  73403.4356,  96626.0581,\n",
       "        83525.3468,  64502.1098, 100114.4525,  75370.5569,  73223.8601,\n",
       "        68422.5555,  67035.0469,  62942.7969,  72185.1357,  64891.8041,\n",
       "        76028.1029,  74917.9962,  65352.2853,  95760.0426,  72270.0007,\n",
       "        81047.0312,  73770.4277,  68217.3969,  69656.2902, 109237.1084,\n",
       "        74489.0637,  88360.1295,  80193.2688,  60752.1017, 101413.7783,\n",
       "        75890.4732,  78768.8695,  70920.8463,  70244.3266, 104995.5667,\n",
       "        73500.0611,  67973.5421, 107297.104 ,  66425.5723,  80487.5052,\n",
       "        71694.6297,  90574.9177,  70296.3341,  79495.9294,  79567.9238,\n",
       "        68542.1843, 100867.3249,  81592.5873,  67929.0187,  74058.3663,\n",
       "        75164.8734,  78002.3685,  67720.1036, 106989.9089,  66012.4807,\n",
       "        75986.3674,  76701.5629,  66410.9304,  73084.3013, 107440.2097,\n",
       "        92919.2581,  65844.6075])"
      ]
     },
     "execution_count": 479,
     "metadata": {},
     "output_type": "execute_result"
    }
   ],
   "source": [
    "test_data_prediction"
   ]
  },
  {
   "cell_type": "code",
   "execution_count": 480,
   "id": "c4929fcc",
   "metadata": {},
   "outputs": [
    {
     "name": "stdout",
     "output_type": "stream",
     "text": [
      "R2 :  0.6725839423916802\n"
     ]
    }
   ],
   "source": [
    "error_score = metrics.r2_score(test_y, test_data_prediction)\n",
    "print(\"R2 : \", error_score)"
   ]
  },
  {
   "cell_type": "code",
   "execution_count": 501,
   "id": "3ba2ed7d",
   "metadata": {},
   "outputs": [
    {
     "name": "stdout",
     "output_type": "stream",
     "text": [
      "Target on test data [91875.3834 66086.4833 65345.1528 ... 62971.7948 69690.9061 83933.6926]\n"
     ]
    }
   ],
   "source": [
    "predict_test = regressor.predict(test)\n",
    "print('Target on test data', predict_test)"
   ]
  },
  {
   "cell_type": "code",
   "execution_count": 502,
   "id": "f77d334e",
   "metadata": {},
   "outputs": [],
   "source": [
    "test['Predicted1']=predict_test.tolist()"
   ]
  },
  {
   "cell_type": "code",
   "execution_count": 503,
   "id": "c68aa1aa",
   "metadata": {},
   "outputs": [
    {
     "data": {
      "text/plain": [
       "0       91875.3834\n",
       "1       66086.4833\n",
       "2       65345.1528\n",
       "3       75272.5967\n",
       "4       70997.0021\n",
       "           ...    \n",
       "1333    69936.6706\n",
       "1334    68563.8807\n",
       "1335    62971.7948\n",
       "1336    69690.9061\n",
       "1337    83933.6926\n",
       "Name: Predicted1, Length: 1338, dtype: float64"
      ]
     },
     "execution_count": 503,
     "metadata": {},
     "output_type": "execute_result"
    }
   ],
   "source": [
    "test.Predicted1"
   ]
  },
  {
   "cell_type": "code",
   "execution_count": 504,
   "id": "98dd6ef0",
   "metadata": {},
   "outputs": [
    {
     "name": "stdout",
     "output_type": "stream",
     "text": [
      "23020489.14581065\n"
     ]
    }
   ],
   "source": [
    "error_score = metrics.mean_squared_error(y1, test.Predicted1)\n",
    "print(error_score)"
   ]
  },
  {
   "cell_type": "code",
   "execution_count": 505,
   "id": "62945213",
   "metadata": {},
   "outputs": [
    {
     "data": {
      "text/plain": [
       "4797.967188905177"
      ]
     },
     "execution_count": 505,
     "metadata": {},
     "output_type": "execute_result"
    }
   ],
   "source": [
    "np.sqrt(error_score)"
   ]
  },
  {
   "cell_type": "code",
   "execution_count": 506,
   "id": "b7e085ab",
   "metadata": {},
   "outputs": [
    {
     "name": "stdout",
     "output_type": "stream",
     "text": [
      "0.8537610031994856\n"
     ]
    }
   ],
   "source": [
    "r2_score = metrics.r2_score(y1, test.Predicted1)\n",
    "print(r2_score)"
   ]
  },
  {
   "cell_type": "code",
   "execution_count": null,
   "id": "44aec23e",
   "metadata": {},
   "outputs": [],
   "source": []
  }
 ],
 "metadata": {
  "kernelspec": {
   "display_name": "Python 3 (ipykernel)",
   "language": "python",
   "name": "python3"
  },
  "language_info": {
   "codemirror_mode": {
    "name": "ipython",
    "version": 3
   },
   "file_extension": ".py",
   "mimetype": "text/x-python",
   "name": "python",
   "nbconvert_exporter": "python",
   "pygments_lexer": "ipython3",
   "version": "3.9.7"
  }
 },
 "nbformat": 4,
 "nbformat_minor": 5
}
